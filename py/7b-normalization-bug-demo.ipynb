{
 "cells": [
  {
   "cell_type": "markdown",
   "metadata": {},
   "source": [
    "# Normalization improvement\n",
    "\n",
    "- here we demonstrate a utilization of `var_cache`, which helps with creating a more coherent result of normalization\n",
    "- sometimes during normalization, due to the interplay of state sets and the determinization-like approach to the algorithm, some variable-labeled transitions can be created, which go against the variable order (i.e. create paths in the normalized UBDA, that allow for repeating variables or even going against the variable order)\n",
    "- the proposed approach does not allow for such transitions to be created\n",
    "- during the phase of normalization where a transition is being created, before it is actually added to the result, a check against the `var_cache` is performed\n",
    "- `var_cache` contains last variable that a state set can see (state sets \"survive\" to next iterations when they are used to create some transition during last iteration)\n",
    "- if the newly created transition would disrupt the variable order (i.e. `var_cache[source]` >= `var_cache[t]` where `t` is some target state of the transition), it is not created\n",
    "- removing `old=True` option from normalization call uses the fix"
   ]
  },
  {
   "cell_type": "code",
   "execution_count": null,
   "metadata": {},
   "outputs": [],
   "source": [
    "from tree_automata import TTreeAut\n",
    "from tree_automata.var_manipulation import compress_vars\n",
    "from helpers.string_manipulation import create_var_order_list\n",
    "\n",
    "from formats.render_dot import convert_to_dot\n",
    "from formats.format_vtf import import_treeaut_from_vtf\n",
    "from canonization.normalization import ubda_normalize\n",
    "from canonization.unfolding import ubda_unfolding"
   ]
  },
  {
   "cell_type": "markdown",
   "metadata": {},
   "source": [
    "# Example 1"
   ]
  },
  {
   "cell_type": "code",
   "execution_count": null,
   "metadata": {},
   "outputs": [],
   "source": [
    "from tree_automata.functions.trimming import remove_useless_states\n",
    "\n",
    "\n",
    "example1: TTreeAut = import_treeaut_from_vtf(\"../tests/normalization/newNormTest4-loops.vtf\")\n",
    "example1.remove_transition('q1','q1-LH-[q1,q1]')\n",
    "example1.remove_transition('q2','q2-LH-[q2,q2]')\n",
    "convert_to_dot(example1)"
   ]
  },
  {
   "cell_type": "code",
   "execution_count": null,
   "metadata": {},
   "outputs": [],
   "source": [
    "example1_unfolded: TTreeAut = ubda_unfolding(example1, 9)\n",
    "example1_unfolded.reformat_states()\n",
    "print(example1_unfolded)\n",
    "\n",
    "convert_to_dot(example1_unfolded)"
   ]
  },
  {
   "cell_type": "code",
   "execution_count": null,
   "metadata": {},
   "outputs": [],
   "source": [
    "# self loop q7 -> (q7, q12) allows for {q7} -x5-> ({q4,q7}, {q8,q12}) to be created\n",
    "# self loop q6 -> (q10, q6) allows for {q6} -x3-> ({q5,q10}, {q3,q6}) to be created\n",
    "# some variable checking during edge creation has to happen\n",
    "# setting 'old=False' makes these transitions go away\n",
    "\n",
    "example1_normalized: TTreeAut = ubda_normalize(example1_unfolded, create_var_order_list('x', 9), old=True)\n",
    "convert_to_dot(compress_vars(example1_normalized))"
   ]
  },
  {
   "cell_type": "code",
   "execution_count": null,
   "metadata": {},
   "outputs": [],
   "source": [
    "VARS = 4\n",
    "example2: TTreeAut = import_treeaut_from_vtf(\"../tests/normalization/newNormTest4-loops.vtf\")\n",
    "example2.remove_transition('q1','q1-LH-[q1,q1]')\n",
    "example2.remove_transition('q2','q2-LH-[q2,q2]')\n",
    "example2.transitions['q2']['q2-LH-[q3,q4]'].info.variable = 'x2'\n",
    "example2.transitions['q0']['q0-LH-[q1,q2]'].children[0] = 'q2'\n",
    "example2.transitions['q0']['q0-LH-[q1,q2]'].info.box_array = [None, None]\n",
    "example2 = remove_useless_states(example2)\n",
    "example2.reformat_states()\n",
    "example2.reformat_keys()\n",
    "convert_to_dot(example2)"
   ]
  },
  {
   "cell_type": "code",
   "execution_count": null,
   "metadata": {},
   "outputs": [],
   "source": [
    "example2_unfolded: TTreeAut = ubda_unfolding(example2, VARS)\n",
    "example2_unfolded.reformat_states()\n",
    "print(example2_unfolded)\n",
    "\n",
    "convert_to_dot(example2_unfolded)"
   ]
  },
  {
   "cell_type": "code",
   "execution_count": null,
   "metadata": {},
   "outputs": [],
   "source": [
    "example2_normalized: TTreeAut = ubda_normalize(example2_unfolded, create_var_order_list('x', VARS), old=True)\n",
    "convert_to_dot(compress_vars(example2_normalized))"
   ]
  }
 ],
 "metadata": {
  "kernelspec": {
   "display_name": ".venv",
   "language": "python",
   "name": "python3"
  },
  "language_info": {
   "codemirror_mode": {
    "name": "ipython",
    "version": 3
   },
   "file_extension": ".py",
   "mimetype": "text/x-python",
   "name": "python",
   "nbconvert_exporter": "python",
   "pygments_lexer": "ipython3",
   "version": "3.12.3"
  }
 },
 "nbformat": 4,
 "nbformat_minor": 2
}
