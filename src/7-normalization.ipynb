{
 "cells": [
  {
   "cell_type": "markdown",
   "metadata": {},
   "source": [
    "# Normalization\n",
    "\n",
    "- this function takes an unfolded UBDA and performs a determinization and \"variable normalization\" over each state\n",
    "- function starts from bottom-up creating sets of states (or macrostates)\n",
    "- \"variable normalization\" happens when the state can be reached through a non-variable labeled transition and a variable labeled transition\n",
    "    - the non-variable transition is treated as \"having all variables\" (essentially for each variable there is a transition with the same source and children states)\n",
    "- the resulting tree automaton is then normalized, which means that ..."
   ]
  },
  {
   "cell_type": "code",
   "execution_count": null,
   "metadata": {},
   "outputs": [],
   "source": [
    "from ta_classes import * \n",
    "from ta_functions import * \n",
    "\n",
    "from test_data import *\n",
    "\n",
    "from format_dot import *\n",
    "from format_vtf import *\n",
    "from format_tmb import *\n",
    "\n",
    "from jupyter import convertToDOT, importTA\n",
    "from normalization import *\n",
    "from unfolding import *"
   ]
  },
  {
   "cell_type": "markdown",
   "metadata": {},
   "source": [
    "# Example 1"
   ]
  },
  {
   "cell_type": "code",
   "execution_count": null,
   "metadata": {},
   "outputs": [],
   "source": [
    "variableOrdering = ['x1', 'x2', 'x3', 'x4', 'x5']\n",
    "alphabet = fullAlphabet"
   ]
  },
  {
   "cell_type": "code",
   "execution_count": null,
   "metadata": {},
   "outputs": [],
   "source": [
    "normalizationTest1 = importTA('tests/normalizationTest1.vtf', 'vtf')\n",
    "convertToDOT(normalizationTest1, 'a')"
   ]
  },
  {
   "cell_type": "code",
   "execution_count": null,
   "metadata": {},
   "outputs": [],
   "source": [
    "normalized1 = normalize(normalizationTest1, fullAlphabet, variableOrdering)\n",
    "convertToDOT(compressVariables(normalized1), 'a')"
   ]
  },
  {
   "cell_type": "markdown",
   "metadata": {},
   "source": [
    "# Example 2"
   ]
  },
  {
   "cell_type": "code",
   "execution_count": null,
   "metadata": {},
   "outputs": [],
   "source": [
    "normalizationTest2 = importTA('tests/normalizationTest2.vtf', 'vtf')\n",
    "convertToDOT(normalizationTest2, 'a')"
   ]
  },
  {
   "cell_type": "code",
   "execution_count": null,
   "metadata": {},
   "outputs": [],
   "source": [
    "normalized2 = normalize(normalizationTest2, fullAlphabet, variableOrdering)\n",
    "convertToDOT(compressVariables(normalized2))"
   ]
  },
  {
   "cell_type": "markdown",
   "metadata": {},
   "source": [
    "# Example 3"
   ]
  },
  {
   "cell_type": "code",
   "execution_count": null,
   "metadata": {},
   "outputs": [],
   "source": [
    "normalizationTest3 = importTA('tests/normalizationTest3.vtf', 'vtf')\n",
    "convertToDOT(normalizationTest3, 'a')"
   ]
  },
  {
   "cell_type": "code",
   "execution_count": null,
   "metadata": {},
   "outputs": [],
   "source": [
    "normalized3 = normalize(normalizationTest3, fullAlphabet, variableOrdering)\n",
    "convertToDOT(compressVariables(normalized3))"
   ]
  },
  {
   "cell_type": "markdown",
   "metadata": {},
   "source": [
    "# Example 4 (example 1 with extra self-loops)"
   ]
  },
  {
   "cell_type": "code",
   "execution_count": null,
   "metadata": {},
   "outputs": [],
   "source": [
    "normalizationTest4 = importTA('tests/normalizationTest4.vtf', 'vtf')\n",
    "convertToDOT(normalizationTest4, 'a')"
   ]
  },
  {
   "cell_type": "code",
   "execution_count": null,
   "metadata": {},
   "outputs": [],
   "source": [
    "normalized4 = normalize(normalizationTest4, fullAlphabet, variableOrdering)\n",
    "convertToDOT(compressVariables(normalized4))"
   ]
  },
  {
   "cell_type": "markdown",
   "metadata": {},
   "source": [
    "# Example 5\n",
    "- unfolding first, then normalizing\n",
    "- three transitions with boxes on both edges\n",
    "- differing variables on nodes with the same level"
   ]
  },
  {
   "cell_type": "code",
   "execution_count": null,
   "metadata": {},
   "outputs": [],
   "source": [
    "normalizationTest5 = importTA('tests/unfoldingTest5.vtf', 'vtf')\n",
    "convertToDOT(normalizationTest5, 'a')"
   ]
  },
  {
   "cell_type": "code",
   "execution_count": null,
   "metadata": {},
   "outputs": [],
   "source": [
    "unfolded5 = unfold(normalizationTest5)\n",
    "convertToDOT(unfolded5, 'a')"
   ]
  },
  {
   "cell_type": "code",
   "execution_count": null,
   "metadata": {},
   "outputs": [],
   "source": [
    "variableOrderingUpdated = ['x1', 'x2', 'x3', 'x4', 'x5', 'x6', 'x7', 'x8']\n",
    "normalized5 = normalize(unfolded5, fullAlphabet, variableOrderingUpdated)\n",
    "compressed5 = compressVariables(normalized5)\n",
    "convertToDOT(compressed5, 'a')"
   ]
  },
  {
   "cell_type": "code",
   "execution_count": null,
   "metadata": {},
   "outputs": [],
   "source": [
    "trimmed5 = removeUselessStates(compressed5)\n",
    "convertToDOT(trimmed5, 'a')\n",
    "td = reachableTD(trimmed5)\n",
    "for i in td:\n",
    "    print(i)"
   ]
  }
 ],
 "metadata": {
  "interpreter": {
   "hash": "31f2aee4e71d21fbe5cf8b01ff0e069b9275f58929596ceb00d14d90e3e16cd6"
  },
  "kernelspec": {
   "display_name": "Python 3.8.10 64-bit",
   "name": "python3"
  },
  "language_info": {
   "codemirror_mode": {
    "name": "ipython",
    "version": 3
   },
   "file_extension": ".py",
   "mimetype": "text/x-python",
   "name": "python",
   "nbconvert_exporter": "python",
   "pygments_lexer": "ipython3",
   "version": "3.8.10"
  }
 },
 "nbformat": 4,
 "nbformat_minor": 2
}
