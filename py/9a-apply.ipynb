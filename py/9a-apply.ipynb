{
 "cells": [
  {
   "cell_type": "markdown",
   "metadata": {},
   "source": [
    "# Apply on ABDDs demonstration 1\n",
    "\n",
    "- here we demonstrate ABDD Apply on a small example\n",
    "- the example should demonstrate a case when the box tree HAS to introduce a node into the result (i.e. combining two reduced edges does not lead to one reduced edge)\n",
    "- essentially, the combined semantics of the boxes are not covered by the set of reduction rules, making the resulting structure more granular\n",
    "- the given examples also demonstrates that canonization can sometimes introduce more increase the size of the result (which is mostly not the case, especially in bigger ABDDs)"
   ]
  },
  {
   "cell_type": "code",
   "execution_count": null,
   "metadata": {},
   "outputs": [],
   "source": [
    "import itertools\n",
    "from typing import Optional\n",
    "\n",
    "from apply.abdd_apply_main import abdd_apply\n",
    "from apply.abdd import convert_ta_to_abdd\n",
    "from apply.box_algebra.apply_tables import BooleanOperation\n",
    "from apply.abdd_node_cache import ABDDNodeCacheClass\n",
    "from apply.abdd import ABDD, construct_node\n",
    "from apply.abdd_node import ABDDNode\n",
    "\n",
    "from canonization.unfolding import ubda_unfolding\n",
    "from canonization.folding import ubda_folding\n",
    "from helpers.utils import box_orders\n",
    "from tree_automata.functions.trimming import remove_useless_states\n",
    "from canonization.normalization import ubda_normalize\n",
    "from helpers.string_manipulation import create_var_order_list\n",
    "from tree_automata.functions.trimming import remove_useless_states\n",
    "\n",
    "from formats.render_dot import convert_to_dot"
   ]
  },
  {
   "cell_type": "code",
   "execution_count": null,
   "metadata": {},
   "outputs": [],
   "source": [
    "op = BooleanOperation.AND\n",
    "\n",
    "ncache = ABDDNodeCacheClass()\n",
    "zero = ncache.terminal_0\n",
    "one = ncache.terminal_1\n",
    "varcount = 10\n",
    "\n",
    "n1 = construct_node(8, \"L1\", [zero], \"H0\", [one], ncache)\n",
    "n2 = construct_node(8, \"H1\", [zero], \"LPort\", [one, zero], ncache)\n",
    "\n",
    "abdd1 = ABDD('test1', varcount, [n1], rootrule=\"X\")\n",
    "abdd2 = ABDD('test2', varcount, [n2], rootrule=\"X\")\n",
    "\n",
    "convert_to_dot(abdd1)"
   ]
  },
  {
   "cell_type": "code",
   "execution_count": null,
   "metadata": {},
   "outputs": [],
   "source": [
    "convert_to_dot(abdd2)"
   ]
  },
  {
   "cell_type": "code",
   "execution_count": null,
   "metadata": {},
   "outputs": [],
   "source": [
    "abdd_test = abdd_apply(op, abdd1, abdd2, ncache, maxvar=varcount)\n",
    "ta = abdd_test.convert_to_treeaut_obj()\n",
    "\n",
    "print(abdd_test)\n",
    "convert_to_dot(abdd_test)"
   ]
  },
  {
   "cell_type": "code",
   "execution_count": null,
   "metadata": {},
   "outputs": [],
   "source": [
    "unf = ubda_unfolding(ta, varcount+1)\n",
    "convert_to_dot(unf)"
   ]
  },
  {
   "cell_type": "code",
   "execution_count": null,
   "metadata": {},
   "outputs": [],
   "source": [
    "norm = ubda_normalize(unf, create_var_order_list(\"\", varcount+1))\n",
    "norm = remove_useless_states(norm)\n",
    "norm.reformat_states()\n",
    "convert_to_dot(norm)"
   ]
  },
  {
   "cell_type": "code",
   "execution_count": null,
   "metadata": {},
   "outputs": [],
   "source": [
    "fold = ubda_folding(norm, box_orders['full'], varcount+1)\n",
    "fold.remove_self_loops()\n",
    "fold = remove_useless_states(fold)\n",
    "convert_to_dot(fold)"
   ]
  },
  {
   "cell_type": "code",
   "execution_count": null,
   "metadata": {},
   "outputs": [],
   "source": [
    "abdd = convert_ta_to_abdd(fold, ncache=ABDDNodeCacheClass())\n",
    "convert_to_dot(abdd)"
   ]
  }
 ],
 "metadata": {
  "kernelspec": {
   "display_name": ".venv",
   "language": "python",
   "name": "python3"
  },
  "language_info": {
   "codemirror_mode": {
    "name": "ipython",
    "version": 3
   },
   "file_extension": ".py",
   "mimetype": "text/x-python",
   "name": "python",
   "nbconvert_exporter": "python",
   "pygments_lexer": "ipython3",
   "version": "3.12.3"
  }
 },
 "nbformat": 4,
 "nbformat_minor": 2
}
