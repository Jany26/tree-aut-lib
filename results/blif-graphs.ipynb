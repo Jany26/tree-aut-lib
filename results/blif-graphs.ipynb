{
 "cells": [
  {
   "attachments": {},
   "cell_type": "markdown",
   "metadata": {},
   "source": [
    "# LGSynth'91 benchmarks comparison\n",
    "tested benchmarks: C432, C499, C880, C1355, C1908"
   ]
  },
  {
   "cell_type": "code",
   "execution_count": 67,
   "metadata": {},
   "outputs": [],
   "source": [
    "import pandas as pd\n",
    "import matplotlib.pyplot as plt\n",
    "from matplotlib import rc\n",
    "\n",
    "# import matplotlib.ticker as tick\n",
    "\n",
    "rc('font',**{'family':'serif','serif':['Helvetica']})\n",
    "rc('text', usetex=True)"
   ]
  },
  {
   "cell_type": "code",
   "execution_count": 68,
   "metadata": {},
   "outputs": [],
   "source": [
    "blif_nodecount_csv = \"./csv/blif-nc.csv\"\n",
    "blif_boxcount_csv = \"./csv/blif-boxes.csv\"\n",
    "\n",
    "blif_bc_output = \"./figures/blif-box-counts.pdf\"\n",
    "blif_nc_output = \"./figures/blif-comparison.pdf\""
   ]
  },
  {
   "cell_type": "code",
   "execution_count": 69,
   "metadata": {},
   "outputs": [
    {
     "name": "stdout",
     "output_type": "stream",
     "text": [
      "103\n",
      "71\n"
     ]
    }
   ],
   "source": [
    "df = pd.read_csv(blif_nodecount_csv)\n",
    "print(df['benchmark'].size)\n",
    "df = df[~df['benchmark'].str.startswith('C499')]\n",
    "print(df['benchmark'].size)\n",
    "df = df.reset_index(drop=True)\n",
    "df.rename(columns={'esr': 'esrbdd'}, inplace=True)"
   ]
  },
  {
   "cell_type": "code",
   "execution_count": 70,
   "metadata": {},
   "outputs": [],
   "source": [
    "def getStatsDataframe(df: pd.DataFrame):\n",
    "    data = df.drop(columns=['benchmark'])\n",
    "    result = {'model': [], 'sum': [], 'mean': []}\n",
    "\n",
    "    for col in data.columns:\n",
    "        column_sum = df[col].sum()\n",
    "        column_mean = df[col].mean()\n",
    "        result['model'].append(col)\n",
    "        result['sum'].append(column_sum)\n",
    "        result['mean'].append(column_mean)\n",
    "\n",
    "    return pd.DataFrame(result)"
   ]
  },
  {
   "cell_type": "code",
   "execution_count": 71,
   "metadata": {},
   "outputs": [],
   "source": [
    "def getStatsByBenchmark(df: pd.DataFrame, order):\n",
    "    data = df.copy()\n",
    "    data = data.reindex(columns=order)\n",
    "    data['benchmark'] = data['benchmark'].str.split('.').str[0]\n",
    "    aggregate_df = data.groupby('benchmark').sum()\n",
    "    aggregate_df = aggregate_df.drop(columns=['init', 'unfold', 'normal'])\n",
    "    result = aggregate_df.reset_index()\n",
    "    return result"
   ]
  },
  {
   "cell_type": "code",
   "execution_count": 72,
   "metadata": {},
   "outputs": [],
   "source": [
    "def getMaxBenchmarkStats(df: pd.DataFrame, order):\n",
    "    data = df.copy()\n",
    "    data = data.reindex(columns=order)\n",
    "    data['benchmark'] = data['benchmark'].str.split('.').str[0]\n",
    "    dfs = dict(tuple(data.groupby('benchmark')))\n",
    "\n",
    "    result = {'benchmark': data.columns.tolist()[1:]}\n",
    "    for benchmark, dataframe in dfs.items():\n",
    "        result[benchmark] = dataframe.loc[dataframe['init'].idxmax()].values.tolist()[1:]\n",
    "    result = pd.DataFrame(result)\n",
    "    result = pd.DataFrame(result).transpose().reset_index()\n",
    "\n",
    "    new_header = result.iloc[0]\n",
    "    result = result[1:]\n",
    "    result = result.set_axis(new_header, axis=1, copy=False).reset_index(drop=True)\n",
    "    result = result.drop(columns=['init', 'unfold', 'normal'])\n",
    "    result = result.set_index(['benchmark'])\n",
    "    return result"
   ]
  },
  {
   "cell_type": "code",
   "execution_count": 73,
   "metadata": {},
   "outputs": [],
   "source": [
    "def computeAvgReduction(data: pd.DataFrame, reference: str, target: str):\n",
    "    reductions = []\n",
    "    for i in range(len(data[reference])):\n",
    "        ref = data[reference][i]\n",
    "        val = data[target][i]\n",
    "        res = (ref - val) / ref\n",
    "        reductions.append(res)\n",
    "    return round((sum(reductions) / len(reductions)) * 100, ndigits=3)"
   ]
  },
  {
   "cell_type": "code",
   "execution_count": 74,
   "metadata": {},
   "outputs": [
    {
     "name": "stdout",
     "output_type": "stream",
     "text": [
      "(bdd-abdd) / bdd = (%) 16.881\n",
      "(zbdd-abdd) / zbdd = (%) 20.891\n",
      "(tbdd-abdd) / tbdd = (%) 16.857\n",
      "(esrbdd-abdd) / esrbdd = (%) 14.44\n",
      "(czdd-abdd) / czdd = (%) 13.92\n",
      "(cbdd-abdd) / cbdd = (%) 8.589\n"
     ]
    }
   ],
   "source": [
    "print('(bdd-abdd) / bdd = (%)', computeAvgReduction(df, 'bdd', 'abdd'))\n",
    "print('(zbdd-abdd) / zbdd = (%)', computeAvgReduction(df, 'zbdd', 'abdd'))\n",
    "print('(tbdd-abdd) / tbdd = (%)', computeAvgReduction(df, 'tbdd', 'abdd'))\n",
    "print('(esrbdd-abdd) / esrbdd = (%)', computeAvgReduction(df, 'esrbdd', 'abdd'))\n",
    "print('(czdd-abdd) / czdd = (%)', computeAvgReduction(df, 'czdd', 'abdd'))\n",
    "print('(cbdd-abdd) / cbdd = (%)', computeAvgReduction(df, 'cbdd', 'abdd'))"
   ]
  },
  {
   "cell_type": "code",
   "execution_count": 75,
   "metadata": {},
   "outputs": [],
   "source": [
    "order = ['benchmark', 'init', 'unfold', 'normal', 'bdd', 'zbdd', 'tbdd', 'czdd', 'cbdd', 'esrbdd', 'abdd']\n",
    "benchmarks_sum = getStatsByBenchmark(df, order)\n",
    "benchmarks_sum.columns = benchmarks_sum.columns.str.upper()\n",
    "benchmarks_sum.loc['Total'] = benchmarks_sum.sum()\n",
    "# benchmarks_sum.to_latex(\"benchmark-sum.nodecounts.tex\")"
   ]
  },
  {
   "cell_type": "code",
   "execution_count": 76,
   "metadata": {},
   "outputs": [
    {
     "data": {
      "text/plain": [
       "<Figure size 432x288 with 0 Axes>"
      ]
     },
     "metadata": {},
     "output_type": "display_data"
    }
   ],
   "source": [
    "box_df = pd.read_csv(blif_boxcount_csv)\n",
    "box_df = box_df[~box_df['benchmark'].str.startswith('C499')]\n",
    "box_df = box_df.reset_index(drop=True)\n",
    "box_df = box_df.drop(columns=['benchmark', 'norm', 'full'])\n",
    "box_df.loc['Total'] = box_df.sum()\n",
    "all_box_usage_total = box_df.iloc[-1].sum()\n",
    "\n",
    "box_df.columns = ['$\\mathtt{X}$', '$\\mathtt{L}_\\mathbf{0}$', '$\\mathtt{L}_\\mathbf{1}$', '$\\mathtt{L}_\\oplus$', '$\\mathtt{H}_\\mathbf{0}$', '$\\mathtt{H}_\\mathbf{1}$', '$\\mathtt{H}_\\oplus$']\n",
    "\n",
    "box_avg_df = pd.DataFrame({\n",
    "    'box' : box_df.columns,\n",
    "    'average' : box_df.loc['Total'] / all_box_usage_total,\n",
    "})\n",
    "def addlabels(x,y):\n",
    "    for i in range(len(x)):\n",
    "        height = y[i] - 10 if y[i] * 100 + 1 > 10 else 0\n",
    "        plt.text(i, y[i] * 100 + 1, round(y[i] * 100, ndigits=2), ha = 'center')\n",
    "\n",
    "plt.bar(box_avg_df['box'], box_avg_df['average'] * 100, bottom=0, color='#6c8ebf')\n",
    "plt.xlabel('Box used')\n",
    "plt.ylabel('\\% of usage in the benchmarks')\n",
    "# plt.ylim(top = )\n",
    "plt.ylim(0, 60)\n",
    "addlabels(box_avg_df['box'], box_avg_df['average'])\n",
    "# plt.show()\n",
    "plt.savefig(blif_bc_output, format='pdf', dpi=300, facecolor='white', bbox_inches='tight', pad_inches=0.05)\n",
    "plt.clf()\n",
    "\n",
    "\n",
    "accent_color = '#6c8ebf'\n",
    "title_color = '#10263b'"
   ]
  },
  {
   "cell_type": "code",
   "execution_count": 77,
   "metadata": {},
   "outputs": [],
   "source": [
    "def doScatterPlot(df: pd.DataFrame, ref: str, tgt: str):\n",
    "    plt.scatter(df[ref], df[tgt], c=accent_color, s=5)\n",
    "    plt.xlabel(f'{ref.upper()} node count')\n",
    "    plt.ylabel(f'{tgt.upper()} node count')\n",
    "    plt.xlim((0, 25000))\n",
    "    plt.ylim((0, 25000))\n",
    "    plt.plot([0, 1], [0, 1], transform=plt.gca().transAxes, ls='--', c='black')\n",
    "\n",
    "    plt.savefig(f\"./{tgt}-vs-{ref}.pdf\", format='pdf', dpi=300, facecolor='white',\n",
    "                edgecolor='r', bbox_inches='tight', pad_inches=0.1)\n",
    "    plt.clf()"
   ]
  },
  {
   "cell_type": "code",
   "execution_count": 78,
   "metadata": {},
   "outputs": [
    {
     "data": {
      "text/plain": [
       "<Figure size 432x288 with 0 Axes>"
      ]
     },
     "metadata": {},
     "output_type": "display_data"
    }
   ],
   "source": [
    "# doScatterPlot(df, 'zbdd', 'abdd')\n",
    "# doScatterPlot(df, 'tbdd', 'abdd')\n",
    "# doScatterPlot(df, 'esrbdd', 'abdd')\n",
    "# doScatterPlot(df, 'czdd', 'abdd')\n",
    "# doScatterPlot(df, 'cbdd', 'abdd')\n",
    "# doScatterPlot(df, 'bdd', 'abdd')\n",
    "\n",
    "color_1 = \"#3dd9c1\"\n",
    "color_2 = \"#3d5cd9\"\n",
    "color_3 = \"#3dd954\"\n",
    "color_4 = \"#e88700\"\n",
    "color_5 = \"#d9453d\"\n",
    "color_6 = \"#d93dd1\"\n",
    "\n",
    "fig = plt.figure()\n",
    "ax1 = fig.add_subplot(111)\n",
    "\n",
    "ax1.scatter(df['zbdd'],   df['abdd'], c=color_2, marker='3', s=50, linewidths=1, label='ZBDD')\n",
    "ax1.scatter(df['cbdd'],   df['abdd'], c=color_3, marker='+', s=50, linewidths=1, label='CBDD')\n",
    "ax1.scatter(df['czdd'],   df['abdd'], c=color_4, marker='1', s=50, linewidths=1, label='CZDD')\n",
    "ax1.scatter(df['tbdd'],   df['abdd'], c=color_5, marker='2', s=50, linewidths=1, label='TBDD')\n",
    "ax1.scatter(df['esrbdd'], df['abdd'], c=color_6, marker='x', s=50, linewidths=1, label='ESRBDD')\n",
    "ax1.scatter(df['bdd'],    df['abdd'], c=color_1, marker='4', s=50, linewidths=1, label='BDD')\n",
    "plt.xlabel(f'Other BDD model node count')\n",
    "plt.ylabel(f'ABDD node count')\n",
    "ax1.legend()\n",
    "# plt.legend(loc='upper left')\n",
    "plt.xlim((0, 25000))\n",
    "plt.ylim((0, 25000))\n",
    "plt.plot([0, 1], [0, 1], transform=plt.gca().transAxes, ls='--', c='black')\n",
    "\n",
    "# plt.show()\n",
    "plt.savefig(blif_nc_output, format='pdf', dpi=300, facecolor='white',\n",
    "            edgecolor='r', bbox_inches='tight', pad_inches=0.1)\n",
    "plt.clf()\n"
   ]
  },
  {
   "cell_type": "code",
   "execution_count": 79,
   "metadata": {},
   "outputs": [],
   "source": [
    "# /\n",
    "# src/              # python source files\n",
    "# cpp/              # C++ source files\n",
    "# tests/            # unit-test files\n",
    "# benchmarks/       # benchmark files\n",
    "#   nta/            # from VATA repository\n",
    "#   blif/           # LGSynth'91\n",
    "#   dimacs/         # uf-20, uf-100 ??\n",
    "# results/          # graphs, csv, etc\n",
    "# data             # simulations, debugging, images, ...\n",
    "# jupyter-notebooks\n",
    "# LICENSE\n",
    "# README.md\n",
    "# requirements.txt"
   ]
  }
 ],
 "metadata": {
  "interpreter": {
   "hash": "31f2aee4e71d21fbe5cf8b01ff0e069b9275f58929596ceb00d14d90e3e16cd6"
  },
  "kernelspec": {
   "display_name": "Python 3.8.10 64-bit",
   "name": "python3"
  },
  "language_info": {
   "codemirror_mode": {
    "name": "ipython",
    "version": 3
   },
   "file_extension": ".py",
   "mimetype": "text/x-python",
   "name": "python",
   "nbconvert_exporter": "python",
   "pygments_lexer": "ipython3",
   "version": "3.10.6"
  }
 },
 "nbformat": 4,
 "nbformat_minor": 2
}
