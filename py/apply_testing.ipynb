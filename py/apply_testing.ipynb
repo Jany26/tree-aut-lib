{
 "cells": [
  {
   "cell_type": "code",
   "execution_count": null,
   "metadata": {},
   "outputs": [],
   "source": [
    "from formats.format_vtf import import_treeaut_from_vtf\n",
    "from apply.abdd import check_if_abdd\n",
    "from formats.render_dot import convert_to_dot"
   ]
  },
  {
   "cell_type": "code",
   "execution_count": null,
   "metadata": {},
   "outputs": [],
   "source": [
    "unfolding1 = import_treeaut_from_vtf(\"../tests/unfolding/unfoldingTest1.vtf\")\n",
    "print('unfolding1', check_if_abdd(unfolding1))\n",
    "convert_to_dot(unfolding1)"
   ]
  },
  {
   "cell_type": "code",
   "execution_count": null,
   "metadata": {},
   "outputs": [],
   "source": [
    "unfolding2 = import_treeaut_from_vtf(\"../tests/unfolding/unfoldingTest2.vtf\")\n",
    "print('unfolding2', check_if_abdd(unfolding2))\n",
    "convert_to_dot(unfolding2)"
   ]
  },
  {
   "cell_type": "code",
   "execution_count": null,
   "metadata": {},
   "outputs": [],
   "source": [
    "unfolding3 = import_treeaut_from_vtf(\"../tests/unfolding/unfoldingTest3.vtf\")\n",
    "print('unfolding3', check_if_abdd(unfolding3))\n",
    "convert_to_dot(unfolding3)"
   ]
  },
  {
   "cell_type": "code",
   "execution_count": null,
   "metadata": {},
   "outputs": [],
   "source": [
    "unfolding4 = import_treeaut_from_vtf(\"../tests/unfolding/unfoldingTest4.vtf\")\n",
    "print('unfolding3', check_if_abdd(unfolding4))\n",
    "convert_to_dot(unfolding4)"
   ]
  },
  {
   "cell_type": "code",
   "execution_count": null,
   "metadata": {},
   "outputs": [],
   "source": [
    "unfolding5 = import_treeaut_from_vtf(\"../tests/unfolding/unfoldingTest5.vtf\")\n",
    "print('unfolding5', check_if_abdd(unfolding5))\n",
    "convert_to_dot(unfolding5)"
   ]
  },
  {
   "cell_type": "code",
   "execution_count": null,
   "metadata": {},
   "outputs": [],
   "source": [
    "unfolding6 = import_treeaut_from_vtf(\"../tests/unfolding/unfoldingTest6.vtf\")\n",
    "print('unfolding6', check_if_abdd(unfolding6))\n",
    "convert_to_dot(unfolding6)"
   ]
  }
 ],
 "metadata": {
  "kernelspec": {
   "display_name": ".venv",
   "language": "python",
   "name": "python3"
  },
  "language_info": {
   "codemirror_mode": {
    "name": "ipython",
    "version": 3
   },
   "file_extension": ".py",
   "mimetype": "text/x-python",
   "name": "python",
   "nbconvert_exporter": "python",
   "pygments_lexer": "ipython3",
   "version": "3.12.3"
  }
 },
 "nbformat": 4,
 "nbformat_minor": 2
}
