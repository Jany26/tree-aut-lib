{
 "cells": [
  {
   "cell_type": "markdown",
   "metadata": {},
   "source": [
    "# Match testing\n",
    "\n",
    "- functions `matchTreeTD()` and `matchTreeBU()` from tha `ta_lib.py` module check, if the TA can produce a tree\n",
    "- it is a logical equivalent to checking if a DFA accepts some string\n",
    "- both functions do the same thing, except `matchTreeTD()` starts checking from the root state and `matchTreeBU()` from the leaves (output edges)"
   ]
  },
  {
   "cell_type": "code",
   "execution_count": null,
   "metadata": {},
   "outputs": [],
   "source": [
    "from ta_classes import * \n",
    "from ta_functions import * \n",
    "\n",
    "from test_data import *\n",
    "\n",
    "from format_dot import *\n",
    "from format_vtf import *\n",
    "from format_tmb import *\n",
    "\n",
    "from jupyter import *"
   ]
  },
  {
   "cell_type": "markdown",
   "metadata": {},
   "source": [
    "Here we have a box/TA called H1 (arbitrary name for now). We are going to see if it is able to generate some tree examples shown later. For more examples of boxes and trees, try looking into modules `test_data.py`, `test_trees.py` and `test_boxes.py`."
   ]
  },
  {
   "cell_type": "code",
   "execution_count": null,
   "metadata": {},
   "outputs": [],
   "source": [
    "boxH1 = boxesDict[\"boxH1\"]\n",
    "convertToDOT(boxH1)\n",
    "\n",
    "test1 = convertStringToTree(\"LH[LH[Port_H1;1];1]\")\n",
    "test2 = convertStringToTree(\"LH[LH[LH[Port_H1;1];LH[LH[1;1];LH[1;1]]];1]\")\n",
    "test3 = convertStringToTree(\"LH[1;LH[1;Port_H1]]\")\n",
    "test4 = convertStringToTree(\"LH[LH[Port_H1;1];0]\")"
   ]
  },
  {
   "cell_type": "code",
   "execution_count": null,
   "metadata": {},
   "outputs": [],
   "source": [
    "print(\"bottom-up match result = \" + str(matchTreeBU(boxH1, test1)))\n",
    "print(\"top-down match result = \" + str(matchTreeTD(boxH1, test1)))\n",
    "convertToDOT(test1, 'n')"
   ]
  },
  {
   "cell_type": "code",
   "execution_count": null,
   "metadata": {},
   "outputs": [],
   "source": [
    "print(\"bottom-up match result = \" + str(matchTreeBU(boxH1, test2)))\n",
    "print(\"top-down match result = \" + str(matchTreeTD(boxH1, test2)))\n",
    "convertToDOT(test2, 'n')"
   ]
  },
  {
   "cell_type": "code",
   "execution_count": null,
   "metadata": {},
   "outputs": [],
   "source": [
    "print(\"bottom-up match result = \" + str(matchTreeBU(boxH1, test3)))\n",
    "print(\"top-down match result = \" + str(matchTreeTD(boxH1, test3)))\n",
    "convertToDOT(test3, 'n')"
   ]
  },
  {
   "cell_type": "code",
   "execution_count": null,
   "metadata": {},
   "outputs": [],
   "source": [
    "print(\"bottom-up match result = \" + str(matchTreeBU(boxH1, test4)))\n",
    "print(\"top-down match result = \" + str(matchTreeTD(boxH1, test4)))\n",
    "convertToDOT(test4, 'n')"
   ]
  }
 ],
 "metadata": {
  "interpreter": {
   "hash": "31f2aee4e71d21fbe5cf8b01ff0e069b9275f58929596ceb00d14d90e3e16cd6"
  },
  "kernelspec": {
   "display_name": "Python 3.8.10 64-bit",
   "name": "python3"
  },
  "language_info": {
   "codemirror_mode": {
    "name": "ipython",
    "version": 3
   },
   "file_extension": ".py",
   "mimetype": "text/x-python",
   "name": "python",
   "nbconvert_exporter": "python",
   "pygments_lexer": "ipython3",
   "version": "3.8.10"
  }
 },
 "nbformat": 4,
 "nbformat_minor": 2
}
