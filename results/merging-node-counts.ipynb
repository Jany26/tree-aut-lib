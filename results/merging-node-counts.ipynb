{
 "cells": [
  {
   "attachments": {},
   "cell_type": "markdown",
   "metadata": {},
   "source": [
    "# Merging CNF, BLIF, N-queens\n",
    "tested benchmarks:\n",
    "- CNF: uf20-01 -- uf20-1000\n",
    "- BLIF: C432, C499, C880, C1355, C1908\n",
    "- N-queens: N in {4,5,6,7,8}"
   ]
  },
  {
   "cell_type": "code",
   "execution_count": null,
   "metadata": {},
   "outputs": [],
   "source": [
    "import pandas as pd\n",
    "import matplotlib.pyplot as plt\n",
    "import matplotlib as mpl\n",
    "\n",
    "mpl.rcParams.update({\n",
    "    # \"mathtext.default\": \"regular\",  # Use mathtext (math fonts) instead of LaTeX\n",
    "    # \"font.family\": \"serif\",  # Use serif font (like Computer Modern)\n",
    "    \"text.usetex\": True,\n",
    "    \"font.family\": \"serif\",\n",
    "    \"font.serif\": [\"Computer Modern Roman\"],\n",
    "    \"text.latex.preamble\": r\"\\usepackage{amsmath}\"\n",
    "})"
   ]
  },
  {
   "cell_type": "code",
   "execution_count": null,
   "metadata": {},
   "outputs": [],
   "source": [
    "dimacs_nodecount_csv = \"./csv/dimacs20-nc.csv\"\n",
    "blif_nodecount_csv = \"./csv/blif-nc.csv\"\n",
    "nqueens_nodecount_csv = \"./csv/nqueens-nc.csv\""
   ]
  },
  {
   "cell_type": "code",
   "execution_count": null,
   "metadata": {},
   "outputs": [],
   "source": [
    "dim_df = pd.read_csv(dimacs_nodecount_csv)\n",
    "dim_df.rename(columns={'esr': 'esrbdd'}, inplace=True)\n",
    "\n",
    "blif_df = pd.read_csv(blif_nodecount_csv)\n",
    "blif_df.rename(columns={'esr': 'esrbdd'}, inplace=True)\n",
    "\n",
    "nq_df = pd.read_csv(nqueens_nodecount_csv)"
   ]
  },
  {
   "cell_type": "code",
   "execution_count": null,
   "metadata": {},
   "outputs": [],
   "source": [
    "all_cols = ['benchmark', 'init', 'unfold', 'normal', 'bdd', 'zbdd', 'tbdd', 'cbdd', 'czdd', 'esrbdd', 'abdd']\n",
    "dim_df = dim_df.reindex(columns=all_cols, fill_value=0)\n",
    "blif_df = blif_df.reindex(columns=all_cols, fill_value=0)\n",
    "nq_df = nq_df.reindex(columns=all_cols, fill_value=0)\n",
    "\n",
    "node_counts = pd.concat([blif_df, dim_df, nq_df], ignore_index=True)\n",
    "\n",
    "# node_counts.to_csv(\"all_benchmarks_raw.csv\", index=False)"
   ]
  },
  {
   "cell_type": "code",
   "execution_count": null,
   "metadata": {},
   "outputs": [],
   "source": [
    "def classify_benchmark(name: str):\n",
    "    if 'iscas' in name:\n",
    "        return 'blif'\n",
    "    elif name.startswith('uf20'):\n",
    "        return 'cnf'\n",
    "    elif name.startswith('queens'):\n",
    "        return 'nqueens'\n",
    "\n",
    "node_counts['type'] = node_counts['benchmark'].apply(classify_benchmark)\n",
    "\n",
    "marker_map = {\n",
    "    'blif': '.',\n",
    "    'cnf': 'x',\n",
    "    'nqueens': '^'\n",
    "}\n",
    "\n",
    "TEXTSIZE=20\n",
    "\n",
    "targets = ['bdd', 'zbdd', 'tbdd', 'cbdd', 'czdd', 'esrbdd']\n",
    "for t in targets:\n",
    "    plt.figure(figsize=(6,6))\n",
    "    for btype, marker in marker_map.items():\n",
    "        subset = node_counts[node_counts['type'] == btype]\n",
    "        plt.scatter(\n",
    "            subset[t], subset['abdd'],\n",
    "            label=btype,\n",
    "            marker=marker,\n",
    "            s=100,\n",
    "            linewidths=1\n",
    "            # color='black'\n",
    "        )\n",
    "    plt.tick_params(axis='x', labelsize=TEXTSIZE)\n",
    "    plt.tick_params(axis='y', labelsize=TEXTSIZE)\n",
    "    plt.xlabel(f\"{t.upper()} node count\", fontsize=TEXTSIZE)\n",
    "    plt.ylabel(f\"ABDD node count\", fontsize=TEXTSIZE)\n",
    "    xmin, xmax, ymin, ymax = 1e1, 1e5, 1e1, 1e5\n",
    "    plt.xscale(\"log\")\n",
    "    plt.yscale(\"log\")\n",
    "    plt.legend(fontsize=TEXTSIZE)\n",
    "    plt.grid(True, which='major', linestyle='--', linewidth=0.5)\n",
    "    lims = [max(xmin, ymin), min(xmax, ymax)]\n",
    "    plt.plot(lims, lims, 'k--', linewidth=1)\n",
    "    plt.tight_layout()\n",
    "\n",
    "    plt.savefig(f\"./figures/all-bench-vs-{t.lower()}.pdf\", format='pdf', dpi=300, facecolor='white', edgecolor='r', bbox_inches='tight', pad_inches=0.02)\n",
    "    plt.show()"
   ]
  }
 ],
 "metadata": {
  "kernelspec": {
   "display_name": ".venv",
   "language": "python",
   "name": "python3"
  },
  "language_info": {
   "codemirror_mode": {
    "name": "ipython",
    "version": 3
   },
   "file_extension": ".py",
   "mimetype": "text/x-python",
   "name": "python",
   "nbconvert_exporter": "python",
   "pygments_lexer": "ipython3",
   "version": "3.12.3"
  }
 },
 "nbformat": 4,
 "nbformat_minor": 2
}
