{
 "cells": [
  {
   "attachments": {},
   "cell_type": "markdown",
   "metadata": {},
   "source": [
    "# LGSynth'91 benchmarks comparison\n",
    "tested benchmarks: C432, C499, C880, C1355, C1908"
   ]
  },
  {
   "cell_type": "code",
   "execution_count": null,
   "metadata": {},
   "outputs": [],
   "source": [
    "import pandas as pd\n",
    "import matplotlib.pyplot as plt\n",
    "\n",
    "df  = pd.read_csv(\"./data/esrbdd-comparison.csv\")\n",
    "df = df.drop(columns=['name'])\n",
    "\n",
    "plt.scatter(df['esr'], df['full'], c='r', s=5)\n",
    "plt.xlabel('ESRBDD node count')\n",
    "plt.ylabel('ABDD node count')\n",
    "plt.xlim((0, 10000))\n",
    "plt.ylim((0, 10000))\n",
    "plt.plot([0, 1], [0, 1], transform=plt.gca().transAxes, ls='--', c='lightgrey')\n",
    "\n",
    "plt.savefig(\"./data/abdd-vs-esrbdd.svg\", format='svg')"
   ]
  }
 ],
 "metadata": {
  "interpreter": {
   "hash": "31f2aee4e71d21fbe5cf8b01ff0e069b9275f58929596ceb00d14d90e3e16cd6"
  },
  "kernelspec": {
   "display_name": "Python 3.8.10 64-bit",
   "name": "python3"
  },
  "language_info": {
   "codemirror_mode": {
    "name": "ipython",
    "version": 3
   },
   "file_extension": ".py",
   "mimetype": "text/x-python",
   "name": "python",
   "nbconvert_exporter": "python",
   "pygments_lexer": "ipython3",
   "version": "3.10.6"
  }
 },
 "nbformat": 4,
 "nbformat_minor": 2
}
