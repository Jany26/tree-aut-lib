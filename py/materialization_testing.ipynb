{
 "cells": [
  {
   "cell_type": "code",
   "execution_count": null,
   "metadata": {},
   "outputs": [],
   "source": [
    "from apply.abdd import ABDD, import_abdd_from_abdd_file\n",
    "from formats.render_dot import convert_to_dot\n",
    "from apply.box_materialization import create_materialized_box\n",
    "from apply.pattern_finding import abdd_subsection_create"
   ]
  },
  {
   "cell_type": "code",
   "execution_count": null,
   "metadata": {},
   "outputs": [],
   "source": [
    "abdd_1: ABDD = import_abdd_from_abdd_file(\"../tests/apply/materialization-inputs/materialization-lport-13-7.dd\")\n",
    "abdd_2: ABDD = import_abdd_from_abdd_file(\"../tests/apply/materialization-inputs/materialization-hport-4-7.dd\")\n",
    "vars1 = [i.var for i in abdd_1.root.low if i.var != 0]\n",
    "vars2 = [i.var for i in abdd_2.root.low if i.var != 0]\n",
    "abdd_1.root.low[0].var = 10\n",
    "direction = False  # false = low, true = high\n",
    "# create_alpha_intersectoid(abdd_1.root, abdd_2.root, direction)\n",
    "# print(abdd_1.root)\n",
    "# for i in abdd_1.root.low:\n",
    "#     print(i)\n",
    "mat_level = 2\n",
    "res = create_materialized_box(abdd_1.root, direction, mat_level, abdd_1.variable_count + 1)\n",
    "convert_to_dot(res)\n"
   ]
  },
  {
   "cell_type": "code",
   "execution_count": null,
   "metadata": {},
   "outputs": [],
   "source": [
    "print(abdd_1)\n",
    "print(res)\n",
    "abdd_subsection_create(abdd_1, abdd_1.root, direction, res)\n",
    "print(res.get_shortest_state_paths_dict())"
   ]
  }
 ],
 "metadata": {
  "kernelspec": {
   "display_name": ".venv",
   "language": "python",
   "name": "python3"
  },
  "language_info": {
   "codemirror_mode": {
    "name": "ipython",
    "version": 3
   },
   "file_extension": ".py",
   "mimetype": "text/x-python",
   "name": "python",
   "nbconvert_exporter": "python",
   "pygments_lexer": "ipython3",
   "version": "3.12.3"
  }
 },
 "nbformat": 4,
 "nbformat_minor": 2
}
