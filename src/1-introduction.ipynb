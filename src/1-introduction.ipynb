{
 "cells": [
  {
   "cell_type": "markdown",
   "metadata": {},
   "source": [
    "# Demonstration of tree-aut-lib usage\n",
    "\n",
    "- this notebook exists to show basic functionality and features of the tree-aut-lib\n",
    "- tree-aut-lib is a library which implements basic operations on tree automata (TA)\n",
    "\n",
    "- for creating images, a function `convertToDOT()` is used\n",
    "    - needs two arguments:\n",
    "        1. a structure it is supposed to convert (a TA or a tree)\n",
    "        2. and an option which specifies which structure is being converted (`'a'` by default):\n",
    "            - `'a'` is used for a tree automaton structure (`TTreeAut`),\n",
    "            - `'n'` is used for a tree structure (`TTreeNode`), \n",
    "            - `'s'` is used for a tree represented by a string\n"
   ]
  },
  {
   "cell_type": "markdown",
   "metadata": {},
   "source": [
    "# Tree automaton (TA) structure - `class TTreeAut`\n",
    "\n",
    "- each TA is initialized with 4 main elements: rootstates, transitions, name, port-arity.\n",
    "    \n",
    "* rootstates  ... array of states (represented by stringas)\n",
    "* transitions ... dictionary referenced by names of states containing dictionaries of transitions\n",
    "    - inner dictionary consists of all transitions going out of the referencing state\n",
    "        * keys in the inner dictionaries are not important\n",
    "    - each transition is represented by an array of 3 items:\n",
    "        1.  source state\n",
    "        2.  TEdge object (\"hyper-edge\"), eg. `TEdge(\"LH\", [None, None], \"\")`, which contains:\n",
    "            - symbol name,\n",
    "            - array of boxes over the parts of the hyper-edge,\n",
    "                * length of this array is equivalent to the arity of the symbol\n",
    "                * if None, the edge is considered \"Short\" (no box over this edge)\n",
    "            - variable (or rank).\n",
    "        3.  array of children states ()\n",
    "* name        ... for exporting to other formats and better readability/context\n",
    "* port-arity  ... (int) number of different ports"
   ]
  },
  {
   "cell_type": "code",
   "execution_count": null,
   "metadata": {},
   "outputs": [],
   "source": [
    "from ta_classes import * \n",
    "from ta_functions import * \n",
    "\n",
    "from test_data import *\n",
    "\n",
    "from format_dot import *\n",
    "from format_vtf import *\n",
    "from format_tmb import *\n",
    "\n",
    "from jupyter import convertToDOT, importTA"
   ]
  },
  {
   "cell_type": "markdown",
   "metadata": {},
   "source": [
    "# Initializing a TA manually\n",
    "\n",
    "- you can create a TA by manually specifying each of its attributes\n",
    "- example\n",
    "- more simple TA examples can be found in files `test_data.py`\n",
    "- initial transition relation definitions can be found in `test_boxes.py`"
   ]
  },
  {
   "cell_type": "code",
   "execution_count": null,
   "metadata": {},
   "outputs": [],
   "source": [
    "tempRootstates = ['q0']\n",
    "tempTransitionDict = {\n",
    "    \"q0\" : {\n",
    "        \"a\" : TTransition('q0', TEdge('LH', [None, None], ''), ['q1', 'q2']),\n",
    "        \"b\" : TTransition('q0', TEdge('LH', [None, None], ''), ['q0', 'q1'])\n",
    "    },\n",
    "    \"q1\" : {\n",
    "        \"c\" : TTransition('q1', TEdge('0', [], ''), [])\n",
    "    },  \n",
    "    \"q2\" : {\n",
    "        \"d\" : TTransition('q2', TEdge('1', [], \"\"), [])\n",
    "    },\n",
    "}\n",
    "\n",
    "simpleTA = TTreeAut(tempRootstates, tempTransitionDict, 'A Simple TA Example')\n",
    "convertToDOT(simpleTA)"
   ]
  },
  {
   "cell_type": "markdown",
   "metadata": {},
   "source": [
    "# Loading a TA from a file\n",
    "- alternatively, you can load a box from a file; supported formats:\n",
    "    1. Timbuk file format (.tmb)\n",
    "        - <https://gitlab.inria.fr/regular-pv/timbuk/timbuk/-/wikis/Specification-File-Format>\n",
    "    2. VATA2 file format (.vtf)\n",
    "        - <https://github.com/ondrik/automata-benchmarks/blob/master/vtf/README.md>"
   ]
  },
  {
   "cell_type": "code",
   "execution_count": null,
   "metadata": {},
   "outputs": [],
   "source": [
    "# Timbuk format\n",
    "\n",
    "boxLoadedFromTMBexample = importTA(\"tmb/boxL0.tmb\", 'tmb')\n",
    "convertToDOT(boxLoadedFromTMBexample, 'a')"
   ]
  },
  {
   "cell_type": "code",
   "execution_count": null,
   "metadata": {},
   "outputs": [],
   "source": [
    "# VATA2 format\n",
    "\n",
    "boxLoadedFromVTFexample = importTA(\"vtf/boxX.vtf\", 'vtf')\n",
    "convertToDOT(boxLoadedFromVTFexample, 'a')"
   ]
  },
  {
   "cell_type": "markdown",
   "metadata": {},
   "source": [
    "# Tree structure - `class TTreeNode`\n",
    "\n",
    "- the class has 4 attributes:\n",
    "1. `value`    ... symbol/information stored in the node (string)\n",
    "2. `parent`   ... reference to the parent node (if 'None', the node is a root)\n",
    "3. `children` ... array of references to child nodes (leaves have empty array)\n",
    "4. `depth`    ... useful for formatted output (indentation etc.)\n",
    "\n",
    "\n",
    "- it is possible to load the trees manually by using class methods such as `addChild()`, `connectChild()` etc..."
   ]
  },
  {
   "cell_type": "code",
   "execution_count": null,
   "metadata": {},
   "outputs": [],
   "source": [
    "testTree = TTreeNode(0)\n",
    "testTree.addChild(1)\n",
    "testTree.addChild(2)\n",
    "testTree.addChild(3)\n",
    "\n",
    "child = testTree.children[0]\n",
    "child.addChild(4)\n",
    "child.addChild(4)\n",
    "\n",
    "convertToDOT(testTree, 'n')"
   ]
  },
  {
   "cell_type": "markdown",
   "metadata": {},
   "source": [
    "# String representation of a tree\n",
    "\n",
    "- much simpler method of loading/creating a tree structure\n",
    "- functions used to convert strings to trees and vice-versa are in module `test_trees.py`\n",
    "\n",
    "- the structured 'tree' strings use three special characters `[`, `]` and `;`\n",
    "    - `[` and `]` denote the start and end of children array\n",
    "    - `;` is used to separate each child\n",
    "    - value/name of the node should be denoted using alphanumeric characters and underscore (other characters have not been tested)\n",
    "    - whitespaces are ignored\n",
    "- children can then have their own child arrays, thus creating a somehow 'recursive' string\n",
    "- e.g. `\"a [ b ; c [ d ; e ] ]\"` -> a is root, a has 2 children (b and c), c has two children (d and e)"
   ]
  },
  {
   "cell_type": "code",
   "execution_count": null,
   "metadata": {},
   "outputs": [],
   "source": [
    "\n",
    "testTreeString = \"A[ B[ 1;2;3[4;5] ] ; C[ a ; b ; c ] ; D[ test ] ]\"\n",
    "convertToDOT(testTreeString, 's')"
   ]
  }
 ],
 "metadata": {
  "interpreter": {
   "hash": "31f2aee4e71d21fbe5cf8b01ff0e069b9275f58929596ceb00d14d90e3e16cd6"
  },
  "kernelspec": {
   "display_name": "Python 3.8.10 64-bit",
   "name": "python3"
  },
  "language_info": {
   "codemirror_mode": {
    "name": "ipython",
    "version": 3
   },
   "file_extension": ".py",
   "mimetype": "text/x-python",
   "name": "python",
   "nbconvert_exporter": "python",
   "pygments_lexer": "ipython3",
   "version": "3.10.6"
  }
 },
 "nbformat": 4,
 "nbformat_minor": 2
}
