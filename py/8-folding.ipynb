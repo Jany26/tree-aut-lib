{
 "cells": [
  {
   "attachments": {},
   "cell_type": "markdown",
   "metadata": {},
   "source": [
    "# Folding\n",
    "\n",
    "Folding algorithm works by traversing the tree automaton top-down (breadth-first) and trying to assign a box on each encountered edge.\n",
    "\n",
    "On the highest level, it iterates over boxes from a given box order.\n",
    "\n",
    "Then by trying to build an intersectoid starting from the target states of encountered states' edges and the root state of a currently used box, the folding finds out which states should be mapped to which box-states with output transitions.\n",
    "\n",
    "By building an \"intersectoid\", a mapping can be obtained. If no such mapping is found, the reduction cannot be applied and the algorithm continues finding the reductions elsewhere.\n",
    "\n",
    "If a mapping is found, the target states of the mapping will placed on the edge at \n",
    "the proper positions.\n",
    "\n",
    "before folding: `q0 - LH -> (q1, q2)` (on edge q0-q1 a mapping for box X is found: port1 -> qx ... after calling boxFinding(originalUBDA, box X, q1)):\n",
    "after folding: `q0 - L:X,H -> (qx, q2)`"
   ]
  },
  {
   "cell_type": "code",
   "execution_count": null,
   "metadata": {},
   "outputs": [],
   "source": [
    "from tree_automata import TTreeAut\n",
    "from tree_automata.var_manipulation import compress_vars, create_var_order_dict\n",
    "from formats.format_vtf import import_treeaut_from_vtf\n",
    "from formats.render_dot import convert_to_dot\n",
    "\n",
    "from canonization.unfolding import ubda_unfolding\n",
    "from canonization.normalization import ubda_normalize\n",
    "from canonization.folding import ubda_folding\n",
    "from helpers.utils import box_orders"
   ]
  },
  {
   "cell_type": "code",
   "execution_count": null,
   "metadata": {},
   "outputs": [],
   "source": [
    "test1: TTreeAut = import_treeaut_from_vtf(\"../tests/normalization/newNormTest4.vtf\", 'f')\n",
    "convert_to_dot(test1, 'a')"
   ]
  },
  {
   "cell_type": "code",
   "execution_count": null,
   "metadata": {},
   "outputs": [],
   "source": [
    "test1_unfolded: TTreeAut = ubda_unfolding(test1)\n",
    "test1_unfolded.reformat_states()\n",
    "convert_to_dot(test1_unfolded, 'a')"
   ]
  },
  {
   "cell_type": "code",
   "execution_count": null,
   "metadata": {},
   "outputs": [],
   "source": [
    "test1_normalized: TTreeAut = ubda_normalize(test1_unfolded, create_var_order_dict('x', 9))\n",
    "convert_to_dot(test1_normalized, 'a')"
   ]
  },
  {
   "cell_type": "code",
   "execution_count": null,
   "metadata": {},
   "outputs": [],
   "source": [
    "test2: TTreeAut = import_treeaut_from_vtf(\"../tests/normalization/newNormTest2.vtf\", 'f')\n",
    "convert_to_dot(test2)"
   ]
  },
  {
   "cell_type": "code",
   "execution_count": null,
   "metadata": {},
   "outputs": [],
   "source": [
    "test2_unfolded: TTreeAut = ubda_unfolding(test2)\n",
    "test2_unfolded.reformat_states()\n",
    "convert_to_dot(test2_unfolded)"
   ]
  },
  {
   "cell_type": "code",
   "execution_count": null,
   "metadata": {},
   "outputs": [],
   "source": [
    "test2_normalized: TTreeAut = ubda_normalize(test2_unfolded, create_var_order_dict('x', 4))\n",
    "convert_to_dot(test2_normalized)"
   ]
  },
  {
   "cell_type": "code",
   "execution_count": null,
   "metadata": {},
   "outputs": [],
   "source": [
    "test2_folded: TTreeAut = ubda_folding(test2_normalized, box_orders[\"full\"], 3)\n",
    "convert_to_dot(compress_vars(test2_folded))"
   ]
  }
 ],
 "metadata": {
  "kernelspec": {
   "display_name": "Python 3.8.10 64-bit",
   "language": "python",
   "name": "python3"
  },
  "language_info": {
   "codemirror_mode": {
    "name": "ipython",
    "version": 3
   },
   "file_extension": ".py",
   "mimetype": "text/x-python",
   "name": "python",
   "nbconvert_exporter": "python",
   "pygments_lexer": "ipython3",
   "version": "3.10.12"
  },
  "vscode": {
   "interpreter": {
    "hash": "31f2aee4e71d21fbe5cf8b01ff0e069b9275f58929596ceb00d14d90e3e16cd6"
   }
  }
 },
 "nbformat": 4,
 "nbformat_minor": 2
}
