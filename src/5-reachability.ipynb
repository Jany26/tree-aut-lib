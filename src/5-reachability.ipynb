{
 "cells": [
  {
   "cell_type": "markdown",
   "metadata": {},
   "source": [
    "# Reachable states checking\n",
    "\n",
    "- sometimes the TA can have unreachable (and thus, useless) states\n",
    "- there are two types of unreachability in TAs:\n",
    "    * **top-down unreachability** = the state can not be reached from the root (but can find its way to output edges/leaves)\n",
    "    * **bottom-up unreachability** = the state can not be reached from the leaves (but can be accessed from the root)\n",
    "\n",
    "- the functions `reachableBU()` and `reachableTD()` take the TA structure and generate a list of reachable states from it\n",
    "\n",
    "- these lists then can be used to create an automaton without any useless states, as used in function `removeUselessStates()`"
   ]
  },
  {
   "cell_type": "code",
   "execution_count": null,
   "metadata": {},
   "outputs": [],
   "source": [
    "from ta_classes import *\n",
    "from ta_lib import *\n",
    "\n",
    "from test_data import *\n",
    "from test_boxes import *\n",
    "from test_trees import *\n",
    "\n",
    "from format_dot import *\n",
    "from format_vtf import *\n",
    "from format_tmb import *\n",
    "\n",
    "from jupyter import *"
   ]
  },
  {
   "cell_type": "markdown",
   "metadata": {},
   "source": [
    "Firstly, we create some tree automaton with top-down unreachable and bottom-up unreachable states."
   ]
  },
  {
   "cell_type": "code",
   "execution_count": null,
   "metadata": {},
   "outputs": [],
   "source": [
    "roots = ['q', 'r', 's', 't']\n",
    "transitions = {\n",
    "    'q': {\n",
    "        'a': ['q', TEdge('LH', [None, None], \"\"), ['q', 'r']],\n",
    "        'b': ['q', TEdge('LH', [None, None], \"\"), ['r', 'u']],\n",
    "        'b2': ['q', TEdge('LH', [None, None], \"\"), ['x', 'x']]\n",
    "    },\n",
    "    'r': {\n",
    "        'c': ['r', TEdge('LH', [None, None], \"\"), ['u', 'u']]\n",
    "    },\n",
    "    's': {\n",
    "        'd': ['s', TEdge('LH', [None, None], \"\"), ['v', 'v']]\n",
    "    },\n",
    "    'u': {\n",
    "        'e': ['u', TEdge('0', [], \"\"), []]\n",
    "    },\n",
    "    'w': {\n",
    "        'f': ['w', TEdge('1', [], \"\"), []]\n",
    "    }\n",
    "}\n",
    "\n",
    "testBox = TTreeAut(roots, transitions, \"unreachableStatesTest\")\n",
    "convertToDOT(testBox)"
   ]
  },
  {
   "cell_type": "markdown",
   "metadata": {},
   "source": [
    "We can see, that states `'s', 'v', 't', 'x'` are bottom-up unreachable and state `'w'` is top-down unreachable, thus all 5 states are considered 'useless'"
   ]
  },
  {
   "cell_type": "code",
   "execution_count": null,
   "metadata": {},
   "outputs": [],
   "source": [
    "TDreachableStates = reachableTD(testBox)\n",
    "print(TDreachableStates)"
   ]
  },
  {
   "cell_type": "code",
   "execution_count": null,
   "metadata": {},
   "outputs": [],
   "source": [
    "BUreachableStates = reachableBU(testBox)\n",
    "print(BUreachableStates)"
   ]
  },
  {
   "cell_type": "code",
   "execution_count": null,
   "metadata": {},
   "outputs": [],
   "source": [
    "removeUselessStates(testBox)\n",
    "convertToDOT(testBox)"
   ]
  }
 ],
 "metadata": {
  "interpreter": {
   "hash": "31f2aee4e71d21fbe5cf8b01ff0e069b9275f58929596ceb00d14d90e3e16cd6"
  },
  "kernelspec": {
   "display_name": "Python 3.8.10 64-bit",
   "name": "python3"
  },
  "language_info": {
   "codemirror_mode": {
    "name": "ipython",
    "version": 3
   },
   "file_extension": ".py",
   "mimetype": "text/x-python",
   "name": "python",
   "nbconvert_exporter": "python",
   "pygments_lexer": "ipython3",
   "version": "3.8.10"
  }
 },
 "nbformat": 4,
 "nbformat_minor": 2
}
