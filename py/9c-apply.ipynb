{
 "cells": [
  {
   "cell_type": "markdown",
   "metadata": {},
   "source": [
    "# Apply on ABDDs demonstration 3\n",
    "\n",
    "- this demonstrates how tests in analyzing progressive growth of benchmarks during their construction work\n",
    "- we show here how one clause (from a DIMACS CNF) is added to some accumulated result\n",
    "- this will keep significantly expanding its size, if canonization after each step is not used"
   ]
  },
  {
   "cell_type": "code",
   "execution_count": null,
   "metadata": {},
   "outputs": [],
   "source": [
    "import itertools\n",
    "from typing import Optional\n",
    "\n",
    "from apply.abdd_apply_main import abdd_apply\n",
    "from apply.abdd import convert_ta_to_abdd\n",
    "from apply.box_algebra.apply_tables import BooleanOperation\n",
    "from apply.abdd_node_cache import ABDDNodeCacheClass\n",
    "from apply.abdd import ABDD, construct_node\n",
    "from apply.abdd_node import ABDDNode\n",
    "from apply.evaluation import compare_op_abdd, compare_abdds_tas\n",
    "\n",
    "from formats.format_vtf import import_treeaut_from_vtf\n",
    "from formats.render_dot import convert_to_dot\n",
    "from helpers.utils import box_orders\n",
    "from helpers.string_manipulation import create_var_order_list\n",
    "\n",
    "from canonization.unfolding import ubda_unfolding\n",
    "from canonization.normalization import ubda_normalize\n",
    "from canonization.folding import ubda_folding\n",
    "from tree_automata.functions.trimming import remove_useless_states"
   ]
  },
  {
   "cell_type": "code",
   "execution_count": null,
   "metadata": {},
   "outputs": [],
   "source": [
    "op = BooleanOperation.AND\n",
    "\n",
    "ncache = ABDDNodeCacheClass()\n",
    "zero = ncache.terminal_0\n",
    "one = ncache.terminal_1\n",
    "varcount = 10\n",
    "\n",
    "n1 = construct_node(8, \"X\", [zero], \"X\", [one], ncache)\n",
    "n2 = construct_node(5, \"X\", [zero], \"X\", [n1], ncache)\n",
    "\n",
    "abdd1 = ABDD('test1', varcount, [n2], rootrule=\"X\")\n",
    "\n",
    "n4 = construct_node(9, \"X\", [one], \"X\", [zero], ncache)\n",
    "n5 = construct_node(4, \"X\", [n4], \"X\", [one], ncache)\n",
    "\n",
    "\n",
    "abdd2 = ABDD('test2', varcount, [n5], rootrule=None)\n",
    "\n",
    "convert_to_dot(abdd1)"
   ]
  },
  {
   "cell_type": "code",
   "execution_count": null,
   "metadata": {},
   "outputs": [],
   "source": [
    "convert_to_dot(abdd2)"
   ]
  },
  {
   "cell_type": "code",
   "execution_count": null,
   "metadata": {},
   "outputs": [],
   "source": [
    "abdd_test = abdd_apply(op, abdd1, abdd2, ncache, maxvar=varcount)\n",
    "ncache.refresh_nodes()\n",
    "ta = abdd_test.convert_to_treeaut_obj()\n",
    "ta.reformat_states()\n",
    "convert_to_dot(abdd_test)"
   ]
  },
  {
   "cell_type": "code",
   "execution_count": null,
   "metadata": {},
   "outputs": [],
   "source": [
    "unf = ubda_unfolding(ta, varcount+1)\n",
    "convert_to_dot(unf)"
   ]
  },
  {
   "cell_type": "code",
   "execution_count": null,
   "metadata": {},
   "outputs": [],
   "source": [
    "norm = ubda_normalize(unf, create_var_order_list(\"\", varcount+1), fix=True)\n",
    "norm = remove_useless_states(norm)\n",
    "norm.reformat_states()\n",
    "print(compare_abdds_tas(norm, abdd_test))\n",
    "convert_to_dot(norm)"
   ]
  },
  {
   "cell_type": "code",
   "execution_count": null,
   "metadata": {},
   "outputs": [],
   "source": [
    "fold = ubda_folding(norm, box_orders['full'], varcount+1)\n",
    "fold.remove_self_loops()\n",
    "fold = remove_useless_states(fold)\n",
    "convert_to_dot(fold)"
   ]
  },
  {
   "cell_type": "code",
   "execution_count": null,
   "metadata": {},
   "outputs": [],
   "source": [
    "abdd = convert_ta_to_abdd(fold, ncache=ABDDNodeCacheClass())\n",
    "print(abdd)\n",
    "print(compare_abdds_tas(abdd, abdd_test))\n",
    "convert_to_dot(abdd)\n"
   ]
  },
  {
   "cell_type": "code",
   "execution_count": null,
   "metadata": {},
   "outputs": [],
   "source": [
    "ncache = ABDDNodeCacheClass()\n",
    "x = abdd_apply(op, abdd2, abdd, ncache, maxvar=varcount)\n",
    "convert_to_dot(x)"
   ]
  }
 ],
 "metadata": {
  "kernelspec": {
   "display_name": ".venv",
   "language": "python",
   "name": "python3"
  },
  "language_info": {
   "codemirror_mode": {
    "name": "ipython",
    "version": 3
   },
   "file_extension": ".py",
   "mimetype": "text/x-python",
   "name": "python",
   "nbconvert_exporter": "python",
   "pygments_lexer": "ipython3",
   "version": "3.12.3"
  }
 },
 "nbformat": 4,
 "nbformat_minor": 2
}
