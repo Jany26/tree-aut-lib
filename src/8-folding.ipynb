{
 "cells": [
  {
   "cell_type": "markdown",
   "metadata": {},
   "source": [
    "# Normalization\n",
    "\n",
    "- this function takes an unfolded UBDA and performs a determinization and \"variable normalization\" over each state\n",
    "- function starts from bottom-up creating sets of states (or macrostates)\n",
    "- \"variable normalization\" happens when the state can be reached through a non-variable labeled transition and a variable labeled transition\n",
    "    - the non-variable transition is treated as \"having all variables\" (essentially for each variable there is a transition with the same source and children states)\n",
    "- the resulting tree automaton is then normalized, which means that ..."
   ]
  },
  {
   "cell_type": "code",
   "execution_count": null,
   "metadata": {},
   "outputs": [],
   "source": [
    "from ta_classes import * \n",
    "from ta_functions import * \n",
    "\n",
    "from test_data import *\n",
    "from test_data import boxCatalogue, fullAlphabet\n",
    "\n",
    "from format_dot import *\n",
    "from format_vtf import *\n",
    "from format_tmb import *\n",
    "\n",
    "from jupyter import convertToDOT, importTA\n",
    "\n",
    "from unfolding import *\n",
    "from normalization import *\n",
    "from folding import *"
   ]
  },
  {
   "cell_type": "code",
   "execution_count": null,
   "metadata": {},
   "outputs": [],
   "source": [
    "boxOrder = ['LPort', 'HPort', 'L0', 'L1', 'H0', 'H1', 'X']\n",
    "ta = importTAfromVTF(\"tests/unfoldingTest5.vtf\", 'f')\n",
    "ta = unfold(ta)\n",
    "symbols = ta.getSymbolArityDict()\n",
    "variables = [f\"x\" + f\"{i+1}\" for i in range(8)]\n",
    "ta = normalize(ta, symbols, variables)\n",
    "ta = compressVariables(ta)\n",
    "# print(ta)\n",
    "convertToDOT(ta, 'a')"
   ]
  },
  {
   "cell_type": "code",
   "execution_count": null,
   "metadata": {},
   "outputs": [],
   "source": [
    "xy = fold(ta, boxOrder)\n",
    "convertToDOT(xy, 'a')"
   ]
  }
 ],
 "metadata": {
  "interpreter": {
   "hash": "31f2aee4e71d21fbe5cf8b01ff0e069b9275f58929596ceb00d14d90e3e16cd6"
  },
  "kernelspec": {
   "display_name": "Python 3.8.10 64-bit",
   "name": "python3"
  },
  "language_info": {
   "codemirror_mode": {
    "name": "ipython",
    "version": 3
   },
   "file_extension": ".py",
   "mimetype": "text/x-python",
   "name": "python",
   "nbconvert_exporter": "python",
   "pygments_lexer": "ipython3",
   "version": "3.8.10"
  }
 },
 "nbformat": 4,
 "nbformat_minor": 2
}
