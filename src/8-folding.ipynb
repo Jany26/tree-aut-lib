{
 "cells": [
  {
   "cell_type": "markdown",
   "metadata": {},
   "source": [
    "# Folding\n",
    "\n",
    "... WIP"
   ]
  },
  {
   "cell_type": "code",
   "execution_count": null,
   "metadata": {},
   "outputs": [],
   "source": [
    "from ta_classes import * \n",
    "from ta_functions import * \n",
    "\n",
    "from test_data import *\n",
    "from test_data import boxCatalogue, fullAlphabet\n",
    "\n",
    "from format_dot import *\n",
    "from format_vtf import *\n",
    "from format_tmb import *\n",
    "\n",
    "from render_dot import convertToDOT, importTA\n",
    "\n",
    "from unfolding import *\n",
    "from normalization import *\n",
    "from folding import *\n",
    "from utils import *"
   ]
  },
  {
   "cell_type": "code",
   "execution_count": null,
   "metadata": {},
   "outputs": [],
   "source": [
    "ta = importTAfromVTF(\"tests/newNormTest4.vtf\", 'f')\n",
    "convertToDOT(ta, 'a')"
   ]
  },
  {
   "cell_type": "code",
   "execution_count": null,
   "metadata": {},
   "outputs": [],
   "source": [
    "# for edge in transitions(ta):\n",
    "#     for box in edge.info.boxArray:\n",
    "#         print(type(box))\n",
    "ta = unfold(ta)\n",
    "ta.reformatStates()\n",
    "convertToDOT(ta, 'a')"
   ]
  },
  {
   "cell_type": "code",
   "execution_count": null,
   "metadata": {},
   "outputs": [],
   "source": [
    "ta = treeAutNormalize(ta, createVarOrder('x', 9))\n",
    "convertToDOT(ta, 'a')"
   ]
  },
  {
   "cell_type": "code",
   "execution_count": null,
   "metadata": {},
   "outputs": [],
   "source": [
    "xy = treeAutFolding(ta, boxOrder, 8, verbose=False)\n",
    "print(xy)\n",
    "# xy.removeState(\"{q8,q12}\")\n",
    "convertToDOT(xy, 'a')"
   ]
  },
  {
   "cell_type": "code",
   "execution_count": null,
   "metadata": {},
   "outputs": [],
   "source": [
    "control = unfold(xy)\n",
    "control.reformatStates()\n",
    "convertToDOT(control)"
   ]
  },
  {
   "cell_type": "code",
   "execution_count": null,
   "metadata": {},
   "outputs": [],
   "source": [
    "control = treeAutNormalize(control, createVarOrder('x', 9), verbose=True)\n",
    "convertToDOT(control, 'a')"
   ]
  },
  {
   "cell_type": "code",
   "execution_count": null,
   "metadata": {},
   "outputs": [],
   "source": [
    "ta = importTAfromVTF(\"tests/newNormTest2.vtf\", 'f')\n",
    "convertToDOT(ta)"
   ]
  },
  {
   "cell_type": "code",
   "execution_count": null,
   "metadata": {},
   "outputs": [],
   "source": [
    "ta = unfold(ta)\n",
    "ta.reformatStates()\n",
    "convertToDOT(ta)"
   ]
  },
  {
   "cell_type": "code",
   "execution_count": null,
   "metadata": {},
   "outputs": [],
   "source": [
    "ta = treeAutNormalize(ta, createVarOrder('x', 4))\n",
    "convertToDOT(ta)"
   ]
  },
  {
   "cell_type": "code",
   "execution_count": null,
   "metadata": {},
   "outputs": [],
   "source": [
    "ta = treeAutFolding(ta, boxOrder, 3)\n",
    "# print(\"\\nFINAL RESULT:\")\n",
    "# print(ta)\n",
    "convertToDOT(compressVariables(ta))"
   ]
  }
 ],
 "metadata": {
  "kernelspec": {
   "display_name": "Python 3.8.10 64-bit",
   "language": "python",
   "name": "python3"
  },
  "language_info": {
   "codemirror_mode": {
    "name": "ipython",
    "version": 3
   },
   "file_extension": ".py",
   "mimetype": "text/x-python",
   "name": "python",
   "nbconvert_exporter": "python",
   "pygments_lexer": "ipython3",
   "version": "3.10.6"
  },
  "vscode": {
   "interpreter": {
    "hash": "31f2aee4e71d21fbe5cf8b01ff0e069b9275f58929596ceb00d14d90e3e16cd6"
   }
  }
 },
 "nbformat": 4,
 "nbformat_minor": 2
}
