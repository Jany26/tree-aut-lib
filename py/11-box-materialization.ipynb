{
 "cells": [
  {
   "cell_type": "markdown",
   "metadata": {},
   "source": [
    "# Materializing a box\n",
    "\n",
    "- here is a demonstration of how a box (given the context of the edge in which it is used, i.e. the variables of source and target nodes) has its transition relation split such that every transitions going through a materialized variable are extracted and explicitly put into the transition relation, along with a few corrections that make sure the semantics of the box (within the used context) are not disrupted\n",
    "- such a box with explicit transitions with the needed variable can be transformed into a so-called `Materialization Recipe` - a data structure resembling a small part of an ABDD, with symbolic names for variables (during the actual Recipe traversal, symbolic names will be replaced with concrete variables)\n",
    "\n",
    "- it is similar to modifying a code of for-loop such that one particular iteration is computed outside of the for loop (i.e. there is a for-loop before this code and a for-loop after this code)\n",
    "\n",
    "```py\n",
    "# change this:\n",
    "for i in range(0, 10):\n",
    "    do_something_for(i)\n",
    "\n",
    "# into this:\n",
    "for i in range(0, 5):\n",
    "    do_something_for(i)\n",
    "do_something_for(5)\n",
    "for i in range(6, 10):\n",
    "    do_something_for(i)\n",
    "# but on the tree automaton's transition relation\n",
    "```"
   ]
  },
  {
   "cell_type": "code",
   "execution_count": null,
   "metadata": {},
   "outputs": [],
   "source": [
    "from apply.materialization.abdd_pattern import ABDDPattern, MaterializationRecipe\n",
    "from apply.materialization.box_materialization import create_materialized_box, compute_variable_ranges\n",
    "from apply.materialization.pattern_finding import abdd_subsection_create, get_state_sym_lookup\n",
    "from tree_automata.automaton import TTreeAut\n",
    "from helpers.utils import box_catalogue\n",
    "from formats.render_dot import convert_to_dot"
   ]
  },
  {
   "cell_type": "code",
   "execution_count": null,
   "metadata": {},
   "outputs": [],
   "source": [
    "box = box_catalogue[\"LPort\"]\n",
    "convert_to_dot(box)"
   ]
  },
  {
   "cell_type": "code",
   "execution_count": null,
   "metadata": {},
   "outputs": [],
   "source": [
    "invar: int = 1  # variable of the source node\n",
    "matvar: int = 2  # variable which should be in the materialized nodes\n",
    "outvars: list[int] = [6, 5]  # variables of the target nodes of the edge\n",
    "leafvar: int = 20  # pseudo-variable of the leaf nodes\n",
    "outvar_map = {s: outvars[i] for i, (p, s) in enumerate(box.get_port_order())}\n",
    "ranges = compute_variable_ranges(box, invar, outvar_map, leafvar)\n",
    "print(f\"state: [ lower bound variable,  upper bound variable ]\")\n",
    "for state, (minvar, maxvar) in ranges.items():\n",
    "    print(f\"{state}: [ {minvar}, {maxvar} ]\")"
   ]
  },
  {
   "cell_type": "code",
   "execution_count": null,
   "metadata": {},
   "outputs": [],
   "source": [
    "aut: TTreeAut = create_materialized_box(box, invar, matvar, outvars, leafvar)\n",
    "print(aut)\n",
    "convert_to_dot(aut)"
   ]
  },
  {
   "cell_type": "code",
   "execution_count": null,
   "metadata": {},
   "outputs": [],
   "source": [
    "state_sym_lookup: dict[str, str] = get_state_sym_lookup([f\"out{i}\" for i in range(len(outvars))], aut)\n",
    "recipe = abdd_subsection_create(state_sym_lookup, aut)\n",
    "print(recipe)"
   ]
  }
 ],
 "metadata": {
  "kernelspec": {
   "display_name": ".venv",
   "language": "python",
   "name": "python3"
  },
  "language_info": {
   "codemirror_mode": {
    "name": "ipython",
    "version": 3
   },
   "file_extension": ".py",
   "mimetype": "text/x-python",
   "name": "python",
   "nbconvert_exporter": "python",
   "pygments_lexer": "ipython3",
   "version": "3.12.3"
  }
 },
 "nbformat": 4,
 "nbformat_minor": 2
}
