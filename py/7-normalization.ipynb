{
 "cells": [
  {
   "cell_type": "markdown",
   "metadata": {},
   "source": [
    "# Normalization\n",
    "\n",
    "- this function takes an unfolded UBDA and performs a determinization and \"variable normalization\" over each state\n",
    "- function starts from bottom-up creating sets of states (or macrostates)\n",
    "- \"variable normalization\" happens when the state can be reached through a non-variable labeled transition and a variable labeled transition\n",
    "    - the non-variable transition is treated as \"having all variables\" (essentially for each variable there is a transition with the same source and children states)\n",
    "- the resulting tree automaton is then normalized, which means that ..."
   ]
  },
  {
   "cell_type": "code",
   "execution_count": null,
   "metadata": {},
   "outputs": [],
   "source": [
    "from ta_classes import * \n",
    "from ta_functions import * \n",
    "\n",
    "from test_data import *\n",
    "\n",
    "from format_dot import *\n",
    "from format_vtf import *\n",
    "from format_tmb import *\n",
    "\n",
    "from render_dot import convertToDOT, importTA\n",
    "from normalization import *\n",
    "from unfolding import *"
   ]
  },
  {
   "cell_type": "markdown",
   "metadata": {},
   "source": [
    "# Example 1"
   ]
  },
  {
   "cell_type": "code",
   "execution_count": null,
   "metadata": {},
   "outputs": [],
   "source": [
    "example1 = importTAfromVTF(\"../tests/normalization/newNormTest1.vtf\", 'f')\n",
    "convertToDOT(example1)"
   ]
  },
  {
   "cell_type": "code",
   "execution_count": null,
   "metadata": {},
   "outputs": [],
   "source": [
    "example1 = unfold(example1)\n",
    "example1.reformatStates()\n",
    "convertToDOT(example1)"
   ]
  },
  {
   "cell_type": "code",
   "execution_count": null,
   "metadata": {},
   "outputs": [],
   "source": [
    "example1 = treeAutNormalize(example1, createVarOrder('x', 4))\n",
    "# print(compressVariables(ta))\n",
    "convertToDOT(compressVariables(example1))"
   ]
  },
  {
   "cell_type": "markdown",
   "metadata": {},
   "source": [
    "# Example 2"
   ]
  },
  {
   "cell_type": "code",
   "execution_count": null,
   "metadata": {},
   "outputs": [],
   "source": [
    "example2 = importTAfromVTF(\"../tests/normalization/newNormTest2.vtf\", 'f')\n",
    "convertToDOT(example2)"
   ]
  },
  {
   "cell_type": "code",
   "execution_count": null,
   "metadata": {},
   "outputs": [],
   "source": [
    "example2 = unfold(example2)\n",
    "example2.reformatStates()\n",
    "convertToDOT(example2)"
   ]
  },
  {
   "cell_type": "code",
   "execution_count": null,
   "metadata": {},
   "outputs": [],
   "source": [
    "example2 = treeAutNormalize(example2, createVarOrder('x', 4))\n",
    "# print(compressVariables(ta))\n",
    "convertToDOT(compressVariables(example2))"
   ]
  },
  {
   "cell_type": "markdown",
   "metadata": {},
   "source": [
    "# Example 3"
   ]
  },
  {
   "cell_type": "code",
   "execution_count": null,
   "metadata": {},
   "outputs": [],
   "source": [
    "example3 = importTAfromVTF(\"../tests/normalization/newNormTest3.vtf\", 'f')\n",
    "convertToDOT(example3)"
   ]
  },
  {
   "cell_type": "code",
   "execution_count": null,
   "metadata": {},
   "outputs": [],
   "source": [
    "example3 = unfold(example3)\n",
    "example3.reformatStates()\n",
    "convertToDOT(example3)"
   ]
  },
  {
   "cell_type": "code",
   "execution_count": null,
   "metadata": {},
   "outputs": [],
   "source": [
    "example3 = treeAutNormalize(example3, createVarOrder('x', 9))\n",
    "# print(compressVariables(ta))\n",
    "convertToDOT(compressVariables(example3))"
   ]
  },
  {
   "cell_type": "markdown",
   "metadata": {},
   "source": [
    "# Example 4"
   ]
  },
  {
   "cell_type": "code",
   "execution_count": null,
   "metadata": {},
   "outputs": [],
   "source": [
    "example4 = importTAfromVTF(\"../tests/normalization/newNormTest4.vtf\", 'f')\n",
    "convertToDOT(example4)"
   ]
  },
  {
   "cell_type": "code",
   "execution_count": null,
   "metadata": {},
   "outputs": [],
   "source": [
    "example4 = unfold(example4)\n",
    "example4.reformatStates()\n",
    "convertToDOT(example4)"
   ]
  },
  {
   "cell_type": "code",
   "execution_count": null,
   "metadata": {},
   "outputs": [],
   "source": [
    "example4 = treeAutNormalize(example4, createVarOrder('x', 9))\n",
    "# print(compressVariables(ta))\n",
    "convertToDOT(compressVariables(example4))"
   ]
  },
  {
   "cell_type": "markdown",
   "metadata": {},
   "source": [
    "# Example 4 - with loops"
   ]
  },
  {
   "cell_type": "code",
   "execution_count": null,
   "metadata": {},
   "outputs": [],
   "source": [
    "example4 = importTAfromVTF(\"../tests/normalization/newNormTest4-loops.vtf\", 'f')\n",
    "example4.name = \"newNormTest4-loops\"\n",
    "convertToDOT(example4)"
   ]
  },
  {
   "cell_type": "code",
   "execution_count": null,
   "metadata": {},
   "outputs": [],
   "source": [
    "example4 = unfold(example4)\n",
    "example4.reformatStates()\n",
    "convertToDOT(example4)"
   ]
  },
  {
   "cell_type": "code",
   "execution_count": null,
   "metadata": {},
   "outputs": [],
   "source": [
    "example4 = treeAutNormalize(example4, createVarOrder('x', 9))\n",
    "# print(compressVariables(ta))\n",
    "convertToDOT(compressVariables(example4))"
   ]
  },
  {
   "cell_type": "markdown",
   "metadata": {},
   "source": [
    "# Example 4 - other boxes"
   ]
  },
  {
   "cell_type": "code",
   "execution_count": null,
   "metadata": {},
   "outputs": [],
   "source": [
    "example4 = importTAfromVTF(\"../tests/normalization/newNormTest4-boxes.vtf\", 'f')\n",
    "example4.name = \"newNormTest4-boxes\"\n",
    "convertToDOT(example4)"
   ]
  },
  {
   "cell_type": "code",
   "execution_count": null,
   "metadata": {},
   "outputs": [],
   "source": [
    "example4 = unfold(example4)\n",
    "example4.reformatStates()\n",
    "convertToDOT(example4)"
   ]
  },
  {
   "cell_type": "code",
   "execution_count": null,
   "metadata": {},
   "outputs": [],
   "source": [
    "example4 = treeAutNormalize(example4, createVarOrder('x', 9))\n",
    "# print(compressVariables(ta))\n",
    "convertToDOT(compressVariables(example4))"
   ]
  },
  {
   "attachments": {},
   "cell_type": "markdown",
   "metadata": {},
   "source": [
    "# Example 5"
   ]
  },
  {
   "cell_type": "code",
   "execution_count": null,
   "metadata": {},
   "outputs": [],
   "source": [
    "example5 = importTAfromVTF(\"../tests/normalization/newNormTest5.vtf\", 'f')\n",
    "# already unfolded\n",
    "convertToDOT(example5)"
   ]
  },
  {
   "cell_type": "code",
   "execution_count": null,
   "metadata": {},
   "outputs": [],
   "source": [
    "example5 = treeAutNormalize(example5, createVarOrder('x', 7))\n",
    "# print(compressVariables(ta))\n",
    "convertToDOT(compressVariables(example5))"
   ]
  }
 ],
 "metadata": {
  "interpreter": {
   "hash": "31f2aee4e71d21fbe5cf8b01ff0e069b9275f58929596ceb00d14d90e3e16cd6"
  },
  "kernelspec": {
   "display_name": "Python 3.8.10 64-bit",
   "name": "python3"
  },
  "language_info": {
   "codemirror_mode": {
    "name": "ipython",
    "version": 3
   },
   "file_extension": ".py",
   "mimetype": "text/x-python",
   "name": "python",
   "nbconvert_exporter": "python",
   "pygments_lexer": "ipython3",
   "version": "3.10.6"
  }
 },
 "nbformat": 4,
 "nbformat_minor": 2
}
