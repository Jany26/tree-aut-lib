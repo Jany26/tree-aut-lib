{
 "cells": [
  {
   "cell_type": "markdown",
   "metadata": {},
   "source": [
    "# Normalization\n",
    "\n",
    "- this function takes an unfolded UBDA and performs a determinization and \"variable normalization\" over each state\n",
    "- function starts from bottom-up creating sets of states (or macrostates)\n",
    "- \"variable normalization\" happens when the state can be reached through a non-variable labeled transition and a variable labeled transition\n",
    "    - the non-variable transition is treated as \"having all variables\" (essentially for each variable there is a transition with the same source and children states)\n",
    "- the resulting tree automaton is then normalized, which means that ..."
   ]
  },
  {
   "cell_type": "code",
   "execution_count": null,
   "metadata": {},
   "outputs": [],
   "source": [
    "from tree_automata import TTreeAut\n",
    "from tree_automata.var_manipulation import compress_vars\n",
    "from helpers.string_manipulation import create_var_order_list\n",
    "\n",
    "from formats.render_dot import convert_to_dot\n",
    "from formats.format_vtf import import_treeaut_from_vtf\n",
    "from canonization.normalization import ubda_normalize\n",
    "from canonization.unfolding import ubda_unfolding"
   ]
  },
  {
   "cell_type": "markdown",
   "metadata": {},
   "source": [
    "# Example 1"
   ]
  },
  {
   "cell_type": "code",
   "execution_count": null,
   "metadata": {},
   "outputs": [],
   "source": [
    "example1: TTreeAut = import_treeaut_from_vtf(\"../tests/normalization/newNormTest1.vtf\")\n",
    "convert_to_dot(example1)"
   ]
  },
  {
   "cell_type": "code",
   "execution_count": null,
   "metadata": {},
   "outputs": [],
   "source": [
    "example1_unfolded: TTreeAut = ubda_unfolding(example1, 4)\n",
    "example1_unfolded.reformat_states()\n",
    "convert_to_dot(example1_unfolded)"
   ]
  },
  {
   "cell_type": "code",
   "execution_count": null,
   "metadata": {},
   "outputs": [],
   "source": [
    "example1_normalized: TTreeAut = ubda_normalize(example1_unfolded, create_var_order_list('x', 4))\n",
    "convert_to_dot(compress_vars(example1_normalized))"
   ]
  },
  {
   "cell_type": "markdown",
   "metadata": {},
   "source": [
    "# Example 2"
   ]
  },
  {
   "cell_type": "code",
   "execution_count": null,
   "metadata": {},
   "outputs": [],
   "source": [
    "example2: TTreeAut = import_treeaut_from_vtf(\"../tests/normalization/newNormTest2.vtf\")\n",
    "convert_to_dot(example2)"
   ]
  },
  {
   "cell_type": "code",
   "execution_count": null,
   "metadata": {},
   "outputs": [],
   "source": [
    "example2_unfolded: TTreeAut = ubda_unfolding(example2, 4)\n",
    "example2_unfolded.reformat_states()\n",
    "convert_to_dot(example2_unfolded)"
   ]
  },
  {
   "cell_type": "code",
   "execution_count": null,
   "metadata": {},
   "outputs": [],
   "source": [
    "example2_normalized: TTreeAut = ubda_normalize(example2_unfolded, create_var_order_list('x', 4))\n",
    "# print(compress_vars(ta))\n",
    "convert_to_dot(compress_vars(example2_normalized))"
   ]
  },
  {
   "cell_type": "markdown",
   "metadata": {},
   "source": [
    "# Example 3"
   ]
  },
  {
   "cell_type": "code",
   "execution_count": null,
   "metadata": {},
   "outputs": [],
   "source": [
    "example3: TTreeAut = import_treeaut_from_vtf(\"../tests/normalization/newNormTest3.vtf\")\n",
    "convert_to_dot(example3)"
   ]
  },
  {
   "cell_type": "code",
   "execution_count": null,
   "metadata": {},
   "outputs": [],
   "source": [
    "example3_unfolded: TTreeAut = ubda_unfolding(example3, 9)\n",
    "example3_unfolded.reformat_states()\n",
    "convert_to_dot(example3_unfolded)"
   ]
  },
  {
   "cell_type": "code",
   "execution_count": null,
   "metadata": {},
   "outputs": [],
   "source": [
    "example3_normalized: TTreeAut = ubda_normalize(example3_unfolded, create_var_order_list('x', 9))\n",
    "# print(compress_vars(ta))\n",
    "convert_to_dot(compress_vars(example3_normalized))"
   ]
  },
  {
   "cell_type": "markdown",
   "metadata": {},
   "source": [
    "# Example 4"
   ]
  },
  {
   "cell_type": "code",
   "execution_count": null,
   "metadata": {},
   "outputs": [],
   "source": [
    "example4: TTreeAut = import_treeaut_from_vtf(\"../tests/normalization/newNormTest4.vtf\")\n",
    "convert_to_dot(example4)"
   ]
  },
  {
   "cell_type": "code",
   "execution_count": null,
   "metadata": {},
   "outputs": [],
   "source": [
    "example4_unfolded: TTreeAut = ubda_unfolding(example4, 9)\n",
    "example4_unfolded.reformat_states()\n",
    "convert_to_dot(example4_unfolded)"
   ]
  },
  {
   "cell_type": "code",
   "execution_count": null,
   "metadata": {},
   "outputs": [],
   "source": [
    "example4_normalized: TTreeAut = ubda_normalize(example4, create_var_order_list('x', 9))\n",
    "# print(compress_vars(ta))\n",
    "convert_to_dot(compress_vars(example4_normalized))"
   ]
  },
  {
   "cell_type": "markdown",
   "metadata": {},
   "source": [
    "# Example 4 - with loops"
   ]
  },
  {
   "cell_type": "code",
   "execution_count": null,
   "metadata": {},
   "outputs": [],
   "source": [
    "example4loop: TTreeAut = import_treeaut_from_vtf(\"../tests/normalization/newNormTest4-loops.vtf\")\n",
    "example4loop.name = \"newNormTest4-loops\"\n",
    "convert_to_dot(example4loop)"
   ]
  },
  {
   "cell_type": "code",
   "execution_count": null,
   "metadata": {},
   "outputs": [],
   "source": [
    "example4loop_unfolded: TTreeAut = ubda_unfolding(example4loop, 9)\n",
    "example4loop_unfolded.reformat_states()\n",
    "convert_to_dot(example4loop_unfolded)"
   ]
  },
  {
   "cell_type": "code",
   "execution_count": null,
   "metadata": {},
   "outputs": [],
   "source": [
    "example4loop_normalized: TTreeAut = ubda_normalize(example4loop_unfolded, create_var_order_list('x', 9))\n",
    "# print(compress_vars(ta))\n",
    "convert_to_dot(compress_vars(example4loop_normalized))"
   ]
  },
  {
   "cell_type": "markdown",
   "metadata": {},
   "source": [
    "# Example 4 - other boxes"
   ]
  },
  {
   "cell_type": "code",
   "execution_count": null,
   "metadata": {},
   "outputs": [],
   "source": [
    "example4boxes: TTreeAut = import_treeaut_from_vtf(\"../tests/normalization/newNormTest4-boxes.vtf\")\n",
    "example4boxes.name = \"newNormTest4-boxes\"\n",
    "convert_to_dot(example4boxes)"
   ]
  },
  {
   "cell_type": "code",
   "execution_count": null,
   "metadata": {},
   "outputs": [],
   "source": [
    "example4boxes_unfolded: TTreeAut = ubda_unfolding(example4boxes, 9)\n",
    "example4boxes_unfolded.reformat_states()\n",
    "convert_to_dot(example4boxes_unfolded)"
   ]
  },
  {
   "cell_type": "code",
   "execution_count": null,
   "metadata": {},
   "outputs": [],
   "source": [
    "example4boxes_normalized: TTreeAut = ubda_normalize(example4boxes_unfolded, create_var_order_list('x', 9))\n",
    "# print(compress_vars(ta))\n",
    "convert_to_dot(compress_vars(example4boxes_normalized))"
   ]
  },
  {
   "attachments": {},
   "cell_type": "markdown",
   "metadata": {},
   "source": [
    "# Example 5"
   ]
  },
  {
   "cell_type": "code",
   "execution_count": null,
   "metadata": {},
   "outputs": [],
   "source": [
    "example5: TTreeAut = import_treeaut_from_vtf(\"../tests/normalization/newNormTest5.vtf\")\n",
    "# already unfolded\n",
    "convert_to_dot(example5)"
   ]
  },
  {
   "cell_type": "code",
   "execution_count": null,
   "metadata": {},
   "outputs": [],
   "source": [
    "example5_normalized: TTreeAut = ubda_normalize(example5, create_var_order_list('x', 7))\n",
    "# print(compress_vars(ta))\n",
    "convert_to_dot(compress_vars(example5_normalized))"
   ]
  }
 ],
 "metadata": {
  "kernelspec": {
   "display_name": ".venv",
   "language": "python",
   "name": "python3"
  },
  "language_info": {
   "codemirror_mode": {
    "name": "ipython",
    "version": 3
   },
   "file_extension": ".py",
   "mimetype": "text/x-python",
   "name": "python",
   "nbconvert_exporter": "python",
   "pygments_lexer": "ipython3",
   "version": "3.12.3"
  }
 },
 "nbformat": 4,
 "nbformat_minor": 2
}
