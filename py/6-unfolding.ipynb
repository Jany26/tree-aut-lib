{
 "cells": [
  {
   "cell_type": "markdown",
   "metadata": {},
   "source": [
    "# Unfolding \n",
    "\n",
    "- one of basic functions needed for ABDDs\n",
    "- takes a reduced form of ABDD (edge reductions using tree automata)\n",
    "- returns semantically equal diagram, but without using any automata on edges\n",
    "    - so only uses short edges"
   ]
  },
  {
   "cell_type": "code",
   "execution_count": 12,
   "metadata": {},
   "outputs": [],
   "source": [
    "from tree_automata import TTreeAut\n",
    "from formats.render_dot import convert_to_dot\n",
    "from formats.format_vtf import import_treeaut_from_vtf\n",
    "from canonization.unfolding import ubda_unfolding"
   ]
  },
  {
   "cell_type": "markdown",
   "metadata": {},
   "source": [
    "# Example 1"
   ]
  },
  {
   "cell_type": "code",
   "execution_count": null,
   "metadata": {},
   "outputs": [],
   "source": [
    "folded1: TTreeAut = import_treeaut_from_vtf('../tests/unfolding/unfoldingTest1.vtf')\n",
    "convert_to_dot(folded1)"
   ]
  },
  {
   "cell_type": "code",
   "execution_count": null,
   "metadata": {},
   "outputs": [],
   "source": [
    "convert_to_dot(ubda_unfolding(folded1, 4))"
   ]
  },
  {
   "cell_type": "markdown",
   "metadata": {},
   "source": [
    "# Example 2"
   ]
  },
  {
   "cell_type": "code",
   "execution_count": null,
   "metadata": {},
   "outputs": [],
   "source": [
    "folded2: TTreeAut = import_treeaut_from_vtf('../tests/unfolding/unfoldingTest2.vtf')\n",
    "convert_to_dot(folded2)"
   ]
  },
  {
   "cell_type": "code",
   "execution_count": null,
   "metadata": {},
   "outputs": [],
   "source": [
    "convert_to_dot(ubda_unfolding(folded2, 8, reformat=False))"
   ]
  },
  {
   "cell_type": "markdown",
   "metadata": {},
   "source": [
    "# Example 3"
   ]
  },
  {
   "cell_type": "code",
   "execution_count": null,
   "metadata": {},
   "outputs": [],
   "source": [
    "folded3: TTreeAut = import_treeaut_from_vtf('../tests/unfolding/unfoldingTest3.vtf')\n",
    "convert_to_dot(folded3)"
   ]
  },
  {
   "cell_type": "code",
   "execution_count": null,
   "metadata": {},
   "outputs": [],
   "source": [
    "convert_to_dot(ubda_unfolding(folded3, 5))"
   ]
  },
  {
   "cell_type": "markdown",
   "metadata": {},
   "source": [
    "# Example 4"
   ]
  },
  {
   "cell_type": "code",
   "execution_count": null,
   "metadata": {},
   "outputs": [],
   "source": [
    "folded4: TTreeAut = import_treeaut_from_vtf('../tests/unfolding/unfoldingTest4.vtf')\n",
    "convert_to_dot(folded4)"
   ]
  },
  {
   "cell_type": "code",
   "execution_count": null,
   "metadata": {},
   "outputs": [],
   "source": [
    "convert_to_dot(ubda_unfolding(folded4, 4))"
   ]
  },
  {
   "cell_type": "markdown",
   "metadata": {},
   "source": [
    "# Example 5"
   ]
  },
  {
   "cell_type": "code",
   "execution_count": null,
   "metadata": {},
   "outputs": [],
   "source": [
    "folded5: TTreeAut = import_treeaut_from_vtf('../tests/unfolding/unfoldingTest5.vtf')\n",
    "convert_to_dot(folded5)"
   ]
  },
  {
   "cell_type": "code",
   "execution_count": null,
   "metadata": {},
   "outputs": [],
   "source": [
    "convert_to_dot(ubda_unfolding(folded5, 9))"
   ]
  }
 ],
 "metadata": {
  "kernelspec": {
   "display_name": ".venv",
   "language": "python",
   "name": "python3"
  },
  "language_info": {
   "codemirror_mode": {
    "name": "ipython",
    "version": 3
   },
   "file_extension": ".py",
   "mimetype": "text/x-python",
   "name": "python",
   "nbconvert_exporter": "python",
   "pygments_lexer": "ipython3",
   "version": "3.12.3"
  }
 },
 "nbformat": 4,
 "nbformat_minor": 2
}
