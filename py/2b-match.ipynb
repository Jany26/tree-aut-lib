{
 "cells": [
  {
   "cell_type": "markdown",
   "metadata": {},
   "source": [
    "# Match testing\n",
    "\n",
    "- functions `match_tree_top_down()` and `match_tree_bottom_up()` from the `ta_functions.py` module check, if the TA can produce a tree\n",
    "- it is a logical equivalent to checking if a DFA accepts some string\n",
    "- both functions do the same thing, except `match_tree_top_down()` starts checking from the root state and `match_tree_bottom_up()` from the leaves (output edges)"
   ]
  },
  {
   "cell_type": "code",
   "execution_count": 1,
   "metadata": {},
   "outputs": [],
   "source": [
    "from tree_automata import TTreeAut, match_tree_bottom_up, match_tree_top_down\n",
    "from tree_automata.tree_node import TTreeNode, convert_string_to_tree\n",
    "from helpers.utils import box_catalogue\n",
    "from formats.render_dot import convert_to_dot"
   ]
  },
  {
   "cell_type": "markdown",
   "metadata": {},
   "source": [
    "Here we have a box/TA called H1 (arbitrary name for now). We are going to see if it is able to generate some tree examples shown later. For more examples of boxes and trees, try looking into modules `test_data.py` and `test_trees.py`."
   ]
  },
  {
   "cell_type": "code",
   "execution_count": null,
   "metadata": {},
   "outputs": [],
   "source": [
    "boxH1: TTreeAut = box_catalogue[\"boxH1\"]\n",
    "convert_to_dot(boxH1)"
   ]
  },
  {
   "cell_type": "code",
   "execution_count": 3,
   "metadata": {},
   "outputs": [],
   "source": [
    "test1: TTreeNode = convert_string_to_tree(\"LH[LH[Port_H1;1];1]\")\n",
    "test2: TTreeNode = convert_string_to_tree(\"LH[LH[LH[Port_H1;1];LH[LH[1;1];LH[1;1]]];1]\")\n",
    "test3: TTreeNode = convert_string_to_tree(\"LH[1;LH[1;Port_H1]]\")\n",
    "test4: TTreeNode = convert_string_to_tree(\"LH[LH[Port_H1;1];0]\")"
   ]
  },
  {
   "cell_type": "code",
   "execution_count": null,
   "metadata": {},
   "outputs": [],
   "source": [
    "print(\"bottom-up match result = \" + str(match_tree_bottom_up(boxH1, test1)))\n",
    "print(\"top-down match result = \" + str(match_tree_top_down(boxH1, test1)))\n",
    "convert_to_dot(test1)"
   ]
  },
  {
   "cell_type": "code",
   "execution_count": null,
   "metadata": {},
   "outputs": [],
   "source": [
    "print(\"bottom-up match result = \" + str(match_tree_bottom_up(boxH1, test2)))\n",
    "print(\"top-down match result = \" + str(match_tree_top_down(boxH1, test2)))\n",
    "convert_to_dot(test2)"
   ]
  },
  {
   "cell_type": "code",
   "execution_count": null,
   "metadata": {},
   "outputs": [],
   "source": [
    "print(\"bottom-up match result = \" + str(match_tree_bottom_up(boxH1, test3)))\n",
    "print(\"top-down match result = \" + str(match_tree_top_down(boxH1, test3)))\n",
    "convert_to_dot(test3)"
   ]
  },
  {
   "cell_type": "code",
   "execution_count": null,
   "metadata": {},
   "outputs": [],
   "source": [
    "print(\"bottom-up match result = \" + str(match_tree_bottom_up(boxH1, test4)))\n",
    "print(\"top-down match result = \" + str(match_tree_top_down(boxH1, test4)))\n",
    "convert_to_dot(test4)"
   ]
  }
 ],
 "metadata": {
  "kernelspec": {
   "display_name": ".venv",
   "language": "python",
   "name": "python3"
  },
  "language_info": {
   "codemirror_mode": {
    "name": "ipython",
    "version": 3
   },
   "file_extension": ".py",
   "mimetype": "text/x-python",
   "name": "python",
   "nbconvert_exporter": "python",
   "pygments_lexer": "ipython3",
   "version": "3.12.3"
  }
 },
 "nbformat": 4,
 "nbformat_minor": 2
}
