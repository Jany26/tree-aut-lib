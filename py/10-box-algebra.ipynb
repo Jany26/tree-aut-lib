{
 "cells": [
  {
   "cell_type": "markdown",
   "metadata": {},
   "source": [
    "# Box op-products playground\n",
    "\n",
    "- here we demonstrate box op-products (where op is a Boolean operator) creation and their subsequent processing into a BoxTree\n",
    "- given two boxes and a Boolean operator [1], a product-like automaton construct is returned, along with a special mapping\n",
    "\n",
    "- the special mapping maps states of the product (which have an output port transition) to instances of PortConnectionInfo, which describe how the ports are mapped to nodes of the resulting ABDD (either the initial nodes are used directly, or negated, or will be a result of another recursive apply call)\n",
    "\n",
    "for example:\n",
    "\n",
    "- `(s1,w2)  ->  PortConnectionInfo(target2=1)`\n",
    "    - `target2=1`: from second box, use the node which is mapped to port of state `w2` (its port-state index (lexicographically) is 1)\n",
    "- `(s1,w1)  ->  PortConnectionInfo(target2=0)`\n",
    "    - `target2=0`: from second box, use the node which is mapped to port of state `w1` (its port-state index (lexicographically) is 0)\n",
    "- `(s2,w2)  ->  PortConnectionInfo(target1=0, target2=1, recursion=True)`\n",
    "    - `target1=0`: from first box, the node mapped to port-state `s2` is used (port index 0)\n",
    "    - `target2=1`: from second box, use the node which is mapped to port of state `w2` (port index 1)\n",
    "    - `recursion=True`: the node which is mapped to the port-state `(s2,w2)` will be the result of an Apply call used on nodes mapped to states `s2` and `w2` from their respective boxes\n",
    "\n",
    "[1] supported operations have its own special table in `apply/box_algebra/apply_tables.py` resembling Cayley tables for small algebraic operations"
   ]
  },
  {
   "cell_type": "code",
   "execution_count": null,
   "metadata": {},
   "outputs": [],
   "source": [
    "from tree_automata.automaton import TTreeAut\n",
    "from helpers.utils import box_catalogue\n",
    "from formats.render_dot import convert_to_dot\n",
    "from apply.box_algebra.apply_tables import BooleanOperation\n",
    "from apply.box_algebra.box_trees import build_box_tree\n",
    "from apply.box_algebra.apply_intersectoid import apply_intersectoid_create\n",
    "from helpers.utils import box_catalogue"
   ]
  },
  {
   "cell_type": "code",
   "execution_count": null,
   "metadata": {},
   "outputs": [],
   "source": [
    "op = BooleanOperation.AND\n",
    "box1 = box_catalogue[\"L1\"]\n",
    "convert_to_dot(box1)"
   ]
  },
  {
   "cell_type": "code",
   "execution_count": null,
   "metadata": {},
   "outputs": [],
   "source": [
    "box2 = box_catalogue[\"HPort\"]\n",
    "convert_to_dot(box2)"
   ]
  },
  {
   "cell_type": "code",
   "execution_count": null,
   "metadata": {},
   "outputs": [],
   "source": [
    "res, mapping = apply_intersectoid_create(op, box1, box2)\n",
    "convert_to_dot(res)"
   ]
  },
  {
   "cell_type": "code",
   "execution_count": null,
   "metadata": {},
   "outputs": [],
   "source": [
    "print(\"box op-product transition relation in text form:\")\n",
    "res.reformat_ports()\n",
    "print(res)\n",
    "\n",
    "print(\"mapping needed for box tree creation: \")\n",
    "for i,j in mapping.items():\n",
    "    print(i, j)"
   ]
  },
  {
   "cell_type": "code",
   "execution_count": null,
   "metadata": {},
   "outputs": [],
   "source": [
    "boxtree = build_box_tree(res, mapping) \n",
    "print(boxtree)"
   ]
  }
 ],
 "metadata": {
  "kernelspec": {
   "display_name": ".venv",
   "language": "python",
   "name": "python3"
  },
  "language_info": {
   "codemirror_mode": {
    "name": "ipython",
    "version": 3
   },
   "file_extension": ".py",
   "mimetype": "text/x-python",
   "name": "python",
   "nbconvert_exporter": "python",
   "pygments_lexer": "ipython3",
   "version": "3.12.3"
  }
 },
 "nbformat": 4,
 "nbformat_minor": 2
}
