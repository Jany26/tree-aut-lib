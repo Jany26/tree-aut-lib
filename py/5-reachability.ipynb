{
 "cells": [
  {
   "cell_type": "markdown",
   "metadata": {},
   "source": [
    "# Reachable states checking\n",
    "\n",
    "- sometimes the TA can have unreachable (and thus, useless) states\n",
    "- there are two types of unreachability in TAs:\n",
    "    * **top-down unreachability** = the state can not be reached from the root (but can find its way to output edges/leaves)\n",
    "    * **bottom-up unreachability** = the state can not be reached from the leaves (but can be accessed from the root)\n",
    "\n",
    "- the functions `reachable_bottom_up()` and `reachable_top_down()` take the TA structure and generate a list of reachable states from it\n",
    "\n",
    "- these lists then can be used to create an automaton without any useless states, as used in function `remove_useless_states()`"
   ]
  },
  {
   "cell_type": "code",
   "execution_count": null,
   "metadata": {},
   "outputs": [],
   "source": [
    "from tree_automata import (\n",
    "    TTreeAut, TTransition, TEdge,\n",
    "    reachable_bottom_up, reachable_top_down, remove_useless_states\n",
    ")\n",
    "from formats.render_dot import convert_to_dot"
   ]
  },
  {
   "cell_type": "markdown",
   "metadata": {},
   "source": [
    "Firstly, we create some tree automaton with top-down unreachable and bottom-up unreachable states."
   ]
  },
  {
   "cell_type": "code",
   "execution_count": null,
   "metadata": {},
   "outputs": [],
   "source": [
    "roots = ['q', 'r', 's', 't']\n",
    "transitions = {\n",
    "    'q': {\n",
    "        'a': TTransition('q', TEdge('LH', [None, None], \"\"), ['q', 'r']),\n",
    "        'b': TTransition('q', TEdge('LH', [None, None], \"\"), ['r', 'u']),\n",
    "        'b2': TTransition('q', TEdge('LH', [None, None], \"\"), ['x', 'x'])\n",
    "    },\n",
    "    'r': {\n",
    "        'c': TTransition('r', TEdge('LH', [None, None], \"\"), ['u', 'u'])\n",
    "    },\n",
    "    's': {\n",
    "        'd': TTransition('s', TEdge('LH', [None, None], \"\"), ['v', 'v'])\n",
    "    },\n",
    "    'u': {\n",
    "        'e': TTransition('u', TEdge('0', [], \"\"), [])\n",
    "    },\n",
    "    'w': {\n",
    "        'f': TTransition('w', TEdge('1', [], \"\"), [])\n",
    "    }\n",
    "}\n",
    "\n",
    "testBox = TTreeAut(roots, transitions, \"unreachableStatesTest\")\n",
    "convert_to_dot(testBox)"
   ]
  },
  {
   "cell_type": "markdown",
   "metadata": {},
   "source": [
    "We can see, that states `'s', 'v', 't', 'x'` are bottom-up unreachable and state `'w'` is top-down unreachable, thus all 5 states are considered 'useless'"
   ]
  },
  {
   "cell_type": "code",
   "execution_count": null,
   "metadata": {},
   "outputs": [],
   "source": [
    "TDreachableStates = reachable_top_down(testBox)\n",
    "print(\"top-down reachable = \" + str(TDreachableStates))\n",
    "BUreachableStates = reachable_bottom_up(testBox)\n",
    "print(\"bottom-up reachable = \" + str(BUreachableStates))"
   ]
  },
  {
   "cell_type": "code",
   "execution_count": null,
   "metadata": {},
   "outputs": [],
   "source": [
    "remove_useless_states(testBox)\n",
    "convert_to_dot(testBox)"
   ]
  }
 ],
 "metadata": {
  "interpreter": {
   "hash": "31f2aee4e71d21fbe5cf8b01ff0e069b9275f58929596ceb00d14d90e3e16cd6"
  },
  "kernelspec": {
   "display_name": "Python 3.8.10 64-bit",
   "name": "python3"
  },
  "language_info": {
   "codemirror_mode": {
    "name": "ipython",
    "version": 3
   },
   "file_extension": ".py",
   "mimetype": "text/x-python",
   "name": "python",
   "nbconvert_exporter": "python",
   "pygments_lexer": "ipython3",
   "version": "3.10.6"
  }
 },
 "nbformat": 4,
 "nbformat_minor": 2
}
