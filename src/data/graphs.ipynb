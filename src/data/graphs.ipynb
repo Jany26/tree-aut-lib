{
 "cells": [
  {
   "attachments": {},
   "cell_type": "markdown",
   "metadata": {},
   "source": [
    "# LGSynth'91 benchmarks comparison\n",
    "tested benchmarks: C432, C499, C880, C1355, C1908"
   ]
  },
  {
   "cell_type": "code",
   "execution_count": null,
   "metadata": {},
   "outputs": [],
   "source": [
    "import pandas as pd\n",
    "import matplotlib.pyplot as plt\n",
    "\n",
    "df  = pd.read_csv(\"./all-nodecounts.csv\") # 103 benchmarks\n",
    "\n",
    "def computeAvgReduction(data: pd.DataFrame, reference: str, target: str):\n",
    "    reductions = []\n",
    "    for i in range(len(data[reference])):\n",
    "        ref = data[reference][i]\n",
    "        val = data[target][i]\n",
    "        res = (ref - val) / ref\n",
    "        reductions.append(res)\n",
    "    return sum(reductions) / len(reductions)\n",
    "\n",
    "type(df['normal'])\n",
    "print('comparison with node counts from normalized benchmarks')\n",
    "print('bdd', computeAvgReduction(df, 'normal', 'bdd'))\n",
    "print('zdd', computeAvgReduction(df, 'normal', 'zdd'))\n",
    "print('esr', computeAvgReduction(df, 'normal', 'esr'))\n",
    "print('abdd', computeAvgReduction(df, 'normal', 'full'))\n",
    "\n",
    "# print('comparison with node counts from unfolded benchmarks')\n",
    "# print('bdd', computeAvgReduction(df, 'unfold', 'bdd'))\n",
    "# print('zdd', computeAvgReduction(df, 'unfold', 'zdd'))\n",
    "# print('esr', computeAvgReduction(df, 'unfold', 'esr'))\n",
    "# print('abdd', computeAvgReduction(df, 'unfold', 'full'))"
   ]
  },
  {
   "cell_type": "code",
   "execution_count": null,
   "metadata": {},
   "outputs": [],
   "source": [
    "\n",
    "plt.scatter(df['esr'], df['full'], c='r', s=5)\n",
    "plt.xlabel('ESRBDD node count')\n",
    "plt.ylabel('ABDD node count')\n",
    "plt.xlim((0, 25000))\n",
    "plt.ylim((0, 25000))\n",
    "plt.plot([0, 1], [0, 1], transform=plt.gca().transAxes, ls='--', c='black')\n",
    "\n",
    "plt.savefig(\"./abdd-vs-esrbdd.svg\", format='svg')"
   ]
  },
  {
   "cell_type": "code",
   "execution_count": null,
   "metadata": {},
   "outputs": [],
   "source": [
    "plt.scatter(df['bdd'], df['full'], c='r', s=5)\n",
    "plt.xlabel('BDD node count')\n",
    "plt.ylabel('ABDD node count')\n",
    "plt.xlim((0, 25000))\n",
    "plt.ylim((0, 25000))\n",
    "plt.plot([0, 1], [0, 1], transform=plt.gca().transAxes, ls='--', c='black')\n",
    "\n",
    "plt.savefig(\"./abdd-vs-bdd.svg\", format='svg')"
   ]
  },
  {
   "cell_type": "code",
   "execution_count": 58,
   "metadata": {},
   "outputs": [
    {
     "data": {
      "image/png": "[encoded data removed]",
      "text/plain": [
       "<Figure size 432x288 with 1 Axes>"
      ]
     },
     "metadata": {
      "needs_background": "light"
     },
     "output_type": "display_data"
    }
   ],
   "source": [
    "plt.scatter(df['zdd'], df['full'], c='r', s=5)\n",
    "plt.xlabel('ZDD node count')\n",
    "plt.ylabel('ABDD node count')\n",
    "plt.xlim((0, 25000))\n",
    "plt.ylim((0, 25000))\n",
    "plt.plot([0, 1], [0, 1], transform=plt.gca().transAxes, ls='--', c='black')\n",
    "\n",
    "plt.savefig(\"./abdd-vs-zdd.svg\", format='svg')"
   ]
  }
 ],
 "metadata": {
  "interpreter": {
   "hash": "31f2aee4e71d21fbe5cf8b01ff0e069b9275f58929596ceb00d14d90e3e16cd6"
  },
  "kernelspec": {
   "display_name": "Python 3.8.10 64-bit",
   "name": "python3"
  },
  "language_info": {
   "codemirror_mode": {
    "name": "ipython",
    "version": 3
   },
   "file_extension": ".py",
   "mimetype": "text/x-python",
   "name": "python",
   "nbconvert_exporter": "python",
   "pygments_lexer": "ipython3",
   "version": "3.10.6"
  }
 },
 "nbformat": 4,
 "nbformat_minor": 2
}
