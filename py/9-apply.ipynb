{
 "cells": [
  {
   "cell_type": "code",
   "execution_count": null,
   "metadata": {},
   "outputs": [],
   "source": [
    "import itertools\n",
    "\n",
    "from apply.abdd_apply_main import abdd_apply\n",
    "from apply.abdd import convert_ta_to_abdd\n",
    "from apply.box_algebra.apply_tables import BooleanOperation\n",
    "from apply.abdd_node_cache import ABDDNodeCacheClass\n",
    "from apply.evaluation import compare_op_abdd\n",
    "\n",
    "\n",
    "from formats.format_vtf import import_treeaut_from_vtf\n",
    "from formats.render_dot import convert_to_dot"
   ]
  },
  {
   "cell_type": "code",
   "execution_count": null,
   "metadata": {},
   "outputs": [],
   "source": [
    "ncache = ABDDNodeCacheClass()\n",
    "ta1 = import_treeaut_from_vtf(\"../tests/apply/ta-to-abdd-conversion/simple-input-1.vtf\")\n",
    "abdd1 = convert_ta_to_abdd(ta1, ncache, var_count=10)\n",
    "convert_to_dot(abdd1)"
   ]
  },
  {
   "cell_type": "code",
   "execution_count": null,
   "metadata": {},
   "outputs": [],
   "source": [
    "ta2 = import_treeaut_from_vtf(\"../tests/apply/ta-to-abdd-conversion/simple-input-2.vtf\")\n",
    "abdd2 = convert_ta_to_abdd(ta2, ncache, var_count=10)\n",
    "convert_to_dot(abdd2)"
   ]
  },
  {
   "cell_type": "code",
   "execution_count": null,
   "metadata": {},
   "outputs": [],
   "source": [
    "op = BooleanOperation.AND\n",
    "result = abdd_apply(op, abdd1, abdd2, ncache, maxvar=10)\n",
    "ncache.refresh_nodes()\n",
    "convert_to_dot(result)"
   ]
  },
  {
   "cell_type": "code",
   "execution_count": null,
   "metadata": {},
   "outputs": [],
   "source": [
    "op = BooleanOperation.OR\n",
    "result = abdd_apply(op, abdd1, abdd2, ncache, maxvar=10)\n",
    "ncache.refresh_nodes()\n",
    "convert_to_dot(result)"
   ]
  },
  {
   "cell_type": "code",
   "execution_count": null,
   "metadata": {},
   "outputs": [],
   "source": [
    "op = BooleanOperation.XOR\n",
    "result = abdd_apply(op, abdd1, abdd2, ncache, maxvar=10)\n",
    "ncache.refresh_nodes()\n",
    "convert_to_dot(result)"
   ]
  },
  {
   "cell_type": "code",
   "execution_count": null,
   "metadata": {},
   "outputs": [],
   "source": [
    "result_ta = result.convert_to_treeaut_obj()\n",
    "convert_to_dot(result_ta)\n",
    "# export_treeaut_to_vtf(result_ta, \"../data/debugging/input-vtf.vtf\")"
   ]
  },
  {
   "cell_type": "code",
   "execution_count": null,
   "metadata": {},
   "outputs": [],
   "source": [
    "compare_op_abdd(abdd1, abdd2, op, result)\n",
    "\n",
    "aut = result.convert_to_treeaut_obj()\n",
    "print(aut)\n",
    "aut.reformat_states()\n",
    "convert_to_dot(aut)"
   ]
  }
 ],
 "metadata": {
  "kernelspec": {
   "display_name": ".venv",
   "language": "python",
   "name": "python3"
  },
  "language_info": {
   "codemirror_mode": {
    "name": "ipython",
    "version": 3
   },
   "file_extension": ".py",
   "mimetype": "text/x-python",
   "name": "python",
   "nbconvert_exporter": "python",
   "pygments_lexer": "ipython3",
   "version": "3.12.3"
  }
 },
 "nbformat": 4,
 "nbformat_minor": 2
}
