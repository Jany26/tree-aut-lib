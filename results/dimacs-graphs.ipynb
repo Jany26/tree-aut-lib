{
 "cells": [
  {
   "attachments": {},
   "cell_type": "markdown",
   "metadata": {},
   "source": [
    "# CNF benchmarks comparison\n",
    "tested benchmarks: uf20-01 -- uf20-1000"
   ]
  },
  {
   "cell_type": "code",
   "execution_count": 7,
   "metadata": {},
   "outputs": [],
   "source": [
    "import pandas as pd\n",
    "import matplotlib.pyplot as plt\n",
    "from matplotlib import rc\n",
    "\n",
    "rc('font',**{'family':'serif','serif':['Helvetica']})\n",
    "rc('text', usetex=True)"
   ]
  },
  {
   "cell_type": "code",
   "execution_count": 8,
   "metadata": {},
   "outputs": [],
   "source": [
    "dimacs_nodecount_csv = \"./csv/dimacs20-nc.csv\"\n",
    "dimacs_boxcount_csv = \"./csv/dimacs20-boxes.csv\"\n",
    "dimacs_bc_output = \"./figures/dimacs-abdd-box-counts.pdf\"\n",
    "dimacs_nc_output = \"./figures/dimacs-abdd-vs-all.pdf\""
   ]
  },
  {
   "cell_type": "code",
   "execution_count": 9,
   "metadata": {},
   "outputs": [],
   "source": [
    "df = pd.read_csv(dimacs_nodecount_csv)\n",
    "df.rename(columns={'esr': 'esrbdd'}, inplace=True)"
   ]
  },
  {
   "cell_type": "code",
   "execution_count": 10,
   "metadata": {},
   "outputs": [
    {
     "name": "stdout",
     "output_type": "stream",
     "text": [
      "           0       1       2       3       4       5       6\n",
      "name     bdd    zbdd    tbdd    czdd    cbdd  esrbdd    abdd\n",
      "sum    45517   28591   45041   27845   42002   27676   26713\n",
      "max      287     216     287     206     242     177     160\n",
      "avg   45.517  28.591  45.041  27.845  42.002  27.676  26.713\n",
      "(bdd-abdd) / bdd = (%) 41.282\n",
      "(zbdd-abdd) / zbdd = (%) 0.426\n",
      "(tbdd-abdd) / tbdd = (%) 40.452\n",
      "(esrbdd-abdd) / esrbdd = (%) 2.19\n",
      "(czdd-abdd) / czdd = (%) -1.675\n",
      "(cbdd-abdd) / cbdd = (%) 36.962\n"
     ]
    }
   ],
   "source": [
    "def getDimacsStats(df: pd.DataFrame, order):\n",
    "    result = {\n",
    "        \"name\": [],\n",
    "        \"sum\": [],\n",
    "        \"max\": [],\n",
    "        \"avg\": []\n",
    "    }\n",
    "    for model in order:\n",
    "        result['name'].append(model)\n",
    "        result['sum'].append(df[model].sum())\n",
    "        result['max'].append(df[model].max())\n",
    "        result['avg'].append(df[model].mean())\n",
    "\n",
    "    return pd.DataFrame(result).transpose()\n",
    "\n",
    "stat_df = getDimacsStats(df, ['bdd', 'zbdd', 'tbdd', 'czdd', 'cbdd', 'esrbdd', 'abdd'])\n",
    "print(stat_df)\n",
    "stat_df.to_latex('test')\n",
    "\n",
    "def computeAvgReduction(data: pd.DataFrame, reference: str, target: str):\n",
    "    reductions = []\n",
    "    for i in range(len(data[reference])):\n",
    "        ref = data[reference][i]\n",
    "        val = data[target][i]\n",
    "        res = (ref - val) / ref\n",
    "        reductions.append(res)\n",
    "    return round((sum(reductions) / len(reductions)) * 100, ndigits=3)\n",
    "\n",
    "print('(bdd-abdd) / bdd = (%)', computeAvgReduction(df, 'bdd', 'abdd'))\n",
    "print('(zbdd-abdd) / zbdd = (%)', computeAvgReduction(df, 'zbdd', 'abdd'))\n",
    "print('(tbdd-abdd) / tbdd = (%)', computeAvgReduction(df, 'tbdd', 'abdd'))\n",
    "print('(esrbdd-abdd) / esrbdd = (%)', computeAvgReduction(df, 'esrbdd', 'abdd'))\n",
    "print('(czdd-abdd) / czdd = (%)', computeAvgReduction(df, 'czdd', 'abdd'))\n",
    "print('(cbdd-abdd) / cbdd = (%)', computeAvgReduction(df, 'cbdd', 'abdd'))"
   ]
  },
  {
   "cell_type": "code",
   "execution_count": 11,
   "metadata": {},
   "outputs": [
    {
     "data": {
      "text/plain": [
       "<Figure size 432x288 with 0 Axes>"
      ]
     },
     "metadata": {},
     "output_type": "display_data"
    }
   ],
   "source": [
    "box_df = pd.read_csv(dimacs_boxcount_csv)\n",
    "box_df = box_df[~box_df['benchmark'].str.startswith('C499')]\n",
    "box_df = box_df.reset_index(drop=True)\n",
    "box_df = box_df.drop(columns=['benchmark', 'norm', 'full'])\n",
    "box_df.loc['Total'] = box_df.sum()\n",
    "all_box_usage_total = box_df.iloc[-1].sum()\n",
    "\n",
    "box_df.columns = ['$\\mathtt{X}$', '$\\mathtt{L}_\\mathbf{0}$', '$\\mathtt{L}_\\mathbf{1}$', '$\\mathtt{L}_\\oplus$', '$\\mathtt{H}_\\mathbf{0}$', '$\\mathtt{H}_\\mathbf{1}$', '$\\mathtt{H}_\\oplus$']\n",
    "\n",
    "box_avg_df = pd.DataFrame({\n",
    "    'box' : box_df.columns,\n",
    "    'average' : box_df.loc['Total'] / all_box_usage_total,\n",
    "})\n",
    "def addlabels(x,y):\n",
    "    for i in range(len(x)):\n",
    "        height = y[i] - 10 if y[i] * 100 + 1 > 10 else 0\n",
    "        plt.text(i, y[i] * 100 + 1, round(y[i] * 100, ndigits=2), ha = 'center')\n",
    "\n",
    "plt.bar(box_avg_df['box'], box_avg_df['average'] * 100, bottom=0, color='#6c8ebf')\n",
    "plt.xlabel('Box used')\n",
    "plt.ylabel('\\% of usage in the benchmarks')\n",
    "plt.ylim(0, 100)\n",
    "addlabels(box_avg_df['box'], box_avg_df['average'])\n",
    "plt.savefig(dimacs_bc_output, format='pdf', dpi=300, facecolor='white', bbox_inches='tight', pad_inches=0.05)\n",
    "plt.clf()\n",
    "\n",
    "\n",
    "accent_color = '#6c8ebf' # poster color - light blue\n",
    "title_color = '#10263b' # poster color - navy blue "
   ]
  },
  {
   "cell_type": "code",
   "execution_count": 12,
   "metadata": {},
   "outputs": [
    {
     "data": {
      "text/plain": [
       "<Figure size 432x288 with 0 Axes>"
      ]
     },
     "metadata": {},
     "output_type": "display_data"
    }
   ],
   "source": [
    "df.rename(columns={'esr': 'esrbdd'}, inplace=True)\n",
    "\n",
    "color_1 = \"#3dd9c1\"\n",
    "color_2 = \"#3d5cd9\"\n",
    "color_3 = \"#3dd954\"\n",
    "color_4 = \"#e88700\"\n",
    "color_5 = \"#d9453d\"\n",
    "color_6 = \"#d93dd1\"\n",
    "\n",
    "fig = plt.figure()\n",
    "ax1 = fig.add_subplot(111)\n",
    "\n",
    "ax1.scatter(df['zbdd'],   df['abdd'], c=color_2, marker='3', s=50, linewidths=1, label='ZBDD')\n",
    "ax1.scatter(df['cbdd'],   df['abdd'], c=color_3, marker='+', s=50, linewidths=1, label='CBDD')\n",
    "ax1.scatter(df['czdd'],   df['abdd'], c=color_4, marker='1', s=50, linewidths=1, label='CZDD')\n",
    "ax1.scatter(df['tbdd'],   df['abdd'], c=color_5, marker='2', s=50, linewidths=1, label='TBDD')\n",
    "ax1.scatter(df['esrbdd'], df['abdd'], c=color_6, marker='x', s=50, linewidths=1, label='ESRBDD')\n",
    "ax1.scatter(df['bdd'],    df['abdd'], c=color_1, marker='4', s=50, linewidths=1, label='BDD')\n",
    "plt.xlabel(f'Other BDD model node count')\n",
    "plt.ylabel(f'ABDD node count')\n",
    "ax1.legend()\n",
    "plt.xlim((0, 300))\n",
    "plt.ylim((0, 300))\n",
    "plt.plot([0, 1], [0, 1], transform=plt.gca().transAxes, ls='--', c='black')\n",
    "\n",
    "# plt.show()\n",
    "plt.savefig(dimacs_nc_output, format='pdf', dpi=300, facecolor='white',\n",
    "            edgecolor='r', bbox_inches='tight', pad_inches=0.1)\n",
    "plt.clf()\n"
   ]
  }
 ],
 "metadata": {
  "interpreter": {
   "hash": "31f2aee4e71d21fbe5cf8b01ff0e069b9275f58929596ceb00d14d90e3e16cd6"
  },
  "kernelspec": {
   "display_name": "Python 3.8.10 64-bit",
   "name": "python3"
  },
  "language_info": {
   "codemirror_mode": {
    "name": "ipython",
    "version": 3
   },
   "file_extension": ".py",
   "mimetype": "text/x-python",
   "name": "python",
   "nbconvert_exporter": "python",
   "pygments_lexer": "ipython3",
   "version": "3.10.6"
  }
 },
 "nbformat": 4,
 "nbformat_minor": 2
}
