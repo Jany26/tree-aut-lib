{
 "cells": [
  {
   "cell_type": "markdown",
   "metadata": {},
   "source": [
    "# Apply on ABDDs demonstration 2\n",
    "\n",
    "- this example yields a little bit more complex results, despite how small the inputs are\n",
    "- it should also demonstrate how materialization introduces nodes into the resulting ABDD structure\n",
    "- also notice the second example, which is a case of inefficient box order for canonization -- using L1 rule before H1 can be applied in many places, which results in a chain of nodes which could be more efficiently reduced by using H1 first"
   ]
  },
  {
   "cell_type": "code",
   "execution_count": null,
   "metadata": {},
   "outputs": [],
   "source": [
    "import itertools\n",
    "\n",
    "from apply.abdd_apply_main import abdd_apply\n",
    "from apply.abdd import convert_ta_to_abdd\n",
    "from apply.box_algebra.apply_tables import BooleanOperation\n",
    "from apply.abdd_node_cache import ABDDNodeCacheClass\n",
    "from apply.evaluation import compare_op_abdd\n",
    "\n",
    "from formats.format_vtf import import_treeaut_from_vtf\n",
    "from formats.render_dot import convert_to_dot\n",
    "\n",
    "from apply.evaluation import compare_abdds_tas\n",
    "from canonization.folding import ubda_folding\n",
    "from canonization.normalization import ubda_normalize\n",
    "from canonization.unfolding import remove_useless_transitions, ubda_unfolding\n",
    "from helpers.string_manipulation import create_var_order_list\n",
    "from helpers.utils import box_orders\n",
    "from tree_automata.automaton import TTreeAut, iterate_edges\n",
    "from tree_automata.functions.trimming import remove_useless_states"
   ]
  },
  {
   "cell_type": "code",
   "execution_count": null,
   "metadata": {},
   "outputs": [],
   "source": [
    "ncache = ABDDNodeCacheClass()\n",
    "varcount = 10\n",
    "ta1 = import_treeaut_from_vtf(\"../tests/apply/ta-to-abdd-conversion/simple-input-1.vtf\")\n",
    "abdd1 = convert_ta_to_abdd(ta1, ncache, var_count=varcount)\n",
    "convert_to_dot(abdd1)"
   ]
  },
  {
   "cell_type": "code",
   "execution_count": null,
   "metadata": {},
   "outputs": [],
   "source": [
    "ta2 = import_treeaut_from_vtf(\"../tests/apply/ta-to-abdd-conversion/simple-input-2.vtf\")\n",
    "abdd2 = convert_ta_to_abdd(ta2, ncache, var_count=varcount)\n",
    "convert_to_dot(abdd2)"
   ]
  },
  {
   "cell_type": "code",
   "execution_count": null,
   "metadata": {},
   "outputs": [],
   "source": [
    "op = BooleanOperation.AND\n",
    "result = abdd_apply(op, abdd1, abdd2, ncache, maxvar=varcount)\n",
    "ncache.refresh_nodes()\n",
    "print(\"abdd1 AND abdd2 = result:\", compare_op_abdd(abdd1, abdd2, op, result))\n",
    "convert_to_dot(result)"
   ]
  },
  {
   "cell_type": "code",
   "execution_count": null,
   "metadata": {},
   "outputs": [],
   "source": [
    "convert_to_dot(abdd1)"
   ]
  },
  {
   "cell_type": "code",
   "execution_count": null,
   "metadata": {},
   "outputs": [],
   "source": [
    "convert_to_dot(abdd2)"
   ]
  },
  {
   "cell_type": "code",
   "execution_count": null,
   "metadata": {},
   "outputs": [],
   "source": [
    "op = BooleanOperation.OR\n",
    "result = abdd_apply(op, abdd1, abdd2, ncache, maxvar=varcount)\n",
    "ncache.refresh_nodes()\n",
    "print(\"abdd1 OR abdd2 = result:\", compare_op_abdd(abdd1, abdd2, op, result))\n",
    "convert_to_dot(result)"
   ]
  },
  {
   "cell_type": "code",
   "execution_count": null,
   "metadata": {},
   "outputs": [],
   "source": [
    "result.reformat_node_names()\n",
    "result_ta = result.convert_to_treeaut_obj()\n",
    "result_ta.reformat_states()\n",
    "convert_to_dot(result_ta)"
   ]
  },
  {
   "cell_type": "code",
   "execution_count": null,
   "metadata": {},
   "outputs": [],
   "source": [
    "unf = ubda_unfolding(result_ta, varcount+1)\n",
    "convert_to_dot(unf)"
   ]
  },
  {
   "cell_type": "code",
   "execution_count": null,
   "metadata": {},
   "outputs": [],
   "source": [
    "norm = ubda_normalize(unf, create_var_order_list(\"\", varcount+1))\n",
    "norm.reformat_states()\n",
    "print(compare_abdds_tas(result, norm))\n",
    "convert_to_dot(norm)"
   ]
  },
  {
   "cell_type": "code",
   "execution_count": null,
   "metadata": {},
   "outputs": [],
   "source": [
    "fold = ubda_folding(norm, box_orders['full'], varcount+1)\n",
    "fold.remove_self_loops()\n",
    "fold = remove_useless_states(fold)\n",
    "convert_to_dot(fold)"
   ]
  },
  {
   "cell_type": "code",
   "execution_count": null,
   "metadata": {},
   "outputs": [],
   "source": [
    "abddx = convert_ta_to_abdd(fold, ncache=ABDDNodeCacheClass())\n",
    "print(compare_abdds_tas(abddx, result))\n",
    "convert_to_dot(abddx)"
   ]
  }
 ],
 "metadata": {
  "kernelspec": {
   "display_name": ".venv",
   "language": "python",
   "name": "python3"
  },
  "language_info": {
   "codemirror_mode": {
    "name": "ipython",
    "version": 3
   },
   "file_extension": ".py",
   "mimetype": "text/x-python",
   "name": "python",
   "nbconvert_exporter": "python",
   "pygments_lexer": "ipython3",
   "version": "3.12.3"
  }
 },
 "nbformat": 4,
 "nbformat_minor": 2
}
