{
 "cells": [
  {
   "cell_type": "markdown",
   "metadata": {},
   "source": [
    "# Folding\n",
    "\n",
    "... WIP"
   ]
  },
  {
   "cell_type": "code",
   "execution_count": null,
   "metadata": {},
   "outputs": [],
   "source": [
    "from ta_classes import * \n",
    "from ta_functions import * \n",
    "\n",
    "from test_data import *\n",
    "from test_data import boxCatalogue, fullAlphabet\n",
    "\n",
    "from format_dot import *\n",
    "from format_vtf import *\n",
    "from format_tmb import *\n",
    "\n",
    "from jupyter import convertToDOT, importTA\n",
    "\n",
    "from unfolding import *\n",
    "from normalization import *\n",
    "from folding import *"
   ]
  },
  {
   "cell_type": "code",
   "execution_count": null,
   "metadata": {},
   "outputs": [],
   "source": [
    "ta = importTAfromVTF(\"tests/foldingTest1.vtf\", 'f')\n",
    "\n",
    "boxOrder = ['X', 'LPort', 'HPort', 'L0', 'L1', 'H0', 'H1']\n",
    "symbols = ta.getSymbolArityDict()\n",
    "variables = [f\"x\" + f\"{i+1}\" for i in range(8)]\n",
    "\n",
    "convertToDOT(ta, 'a')"
   ]
  },
  {
   "cell_type": "code",
   "execution_count": null,
   "metadata": {},
   "outputs": [],
   "source": [
    "ta = unfold(ta)\n",
    "ta = normalize(ta, symbols, variables)\n",
    "ta = compressVariables(ta)\n",
    "xy = fold(ta, boxOrder)\n",
    "convertToDOT(xy, 'a')"
   ]
  }
 ],
 "metadata": {
  "kernelspec": {
   "display_name": "Python 3.8.10 64-bit",
   "language": "python",
   "name": "python3"
  },
  "language_info": {
   "codemirror_mode": {
    "name": "ipython",
    "version": 3
   },
   "file_extension": ".py",
   "mimetype": "text/x-python",
   "name": "python",
   "nbconvert_exporter": "python",
   "pygments_lexer": "ipython3",
   "version": "3.8.10"
  },
  "vscode": {
   "interpreter": {
    "hash": "31f2aee4e71d21fbe5cf8b01ff0e069b9275f58929596ceb00d14d90e3e16cd6"
   }
  }
 },
 "nbformat": 4,
 "nbformat_minor": 2
}
